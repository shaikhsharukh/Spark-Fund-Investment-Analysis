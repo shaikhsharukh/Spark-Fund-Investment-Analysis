{
  "nbformat": 4,
  "nbformat_minor": 0,
  "metadata": {
    "colab": {
      "name": "Module_3_Investment_Analysis_SparkFunds.ipynb",
      "provenance": [],
      "collapsed_sections": [],
      "toc_visible": true
    },
    "kernelspec": {
      "name": "python3",
      "display_name": "Python 3"
    }
  },
  "cells": [
    {
      "cell_type": "markdown",
      "metadata": {
        "id": "A5fSiZiPzpm7",
        "colab_type": "text"
      },
      "source": [
        "#Check Point 1 ( Data Cleaning )"
      ]
    },
    {
      "cell_type": "markdown",
      "metadata": {
        "id": "CqxF9_NoHSji",
        "colab_type": "text"
      },
      "source": [
        "##Loading the Data "
      ]
    },
    {
      "cell_type": "code",
      "metadata": {
        "id": "-ob8fcSfyiX6",
        "colab_type": "code",
        "colab": {}
      },
      "source": [
        "#import basic libraries\n",
        "import pandas as pd\n",
        "import numpy as np\n",
        "import matplotlib.pyplot as plt\n",
        "import seaborn as sns"
      ],
      "execution_count": 414,
      "outputs": []
    },
    {
      "cell_type": "code",
      "metadata": {
        "id": "6Zz2-_PR3Te1",
        "colab_type": "code",
        "colab": {}
      },
      "source": [
        "#import data\n",
        "companies=pd.read_csv(r'https://cdn.upgrad.com/uploads/production/ad4b085e-a223-4bfd-aeb4-78cb217face3/companies.csv', encoding= 'palmos')\n",
        "rounds2=pd.read_csv(r'https://cdn.upgrad.com/UpGrad/temp/4c3b5ed0-e5dc-4838-89a2-173d8707d857/rounds2.csv', encoding= 'palmos')"
      ],
      "execution_count": 415,
      "outputs": []
    },
    {
      "cell_type": "code",
      "metadata": {
        "id": "9QJ04WfbHzKJ",
        "colab_type": "code",
        "colab": {
          "base_uri": "https://localhost:8080/",
          "height": 0
        },
        "outputId": "e51deae8-7884-4d07-bf59-d98fe4a20eb6"
      },
      "source": [
        "#understanding the data\n",
        "print(companies.head(5))\n",
        "print(companies.info())\n",
        "print(companies.isnull().sum())"
      ],
      "execution_count": 416,
      "outputs": [
        {
          "output_type": "stream",
          "text": [
            "                             permalink  ...  founded_at\n",
            "0                  /Organization/-Fame  ...         NaN\n",
            "1               /Organization/-Qounter  ...  04-09-2014\n",
            "2  /Organization/-The-One-Of-Them-Inc-  ...         NaN\n",
            "3                /Organization/0-6-Com  ...  01-01-2007\n",
            "4       /Organization/004-Technologies  ...  01-01-2010\n",
            "\n",
            "[5 rows x 10 columns]\n",
            "<class 'pandas.core.frame.DataFrame'>\n",
            "RangeIndex: 66368 entries, 0 to 66367\n",
            "Data columns (total 10 columns):\n",
            " #   Column         Non-Null Count  Dtype \n",
            "---  ------         --------------  ----- \n",
            " 0   permalink      66368 non-null  object\n",
            " 1   name           66367 non-null  object\n",
            " 2   homepage_url   61310 non-null  object\n",
            " 3   category_list  63220 non-null  object\n",
            " 4   status         66368 non-null  object\n",
            " 5   country_code   59410 non-null  object\n",
            " 6   state_code     57821 non-null  object\n",
            " 7   region         58338 non-null  object\n",
            " 8   city           58340 non-null  object\n",
            " 9   founded_at     51147 non-null  object\n",
            "dtypes: object(10)\n",
            "memory usage: 5.1+ MB\n",
            "None\n",
            "permalink            0\n",
            "name                 1\n",
            "homepage_url      5058\n",
            "category_list     3148\n",
            "status               0\n",
            "country_code      6958\n",
            "state_code        8547\n",
            "region            8030\n",
            "city              8028\n",
            "founded_at       15221\n",
            "dtype: int64\n"
          ],
          "name": "stdout"
        }
      ]
    },
    {
      "cell_type": "markdown",
      "metadata": {
        "id": "DYmN_gSVPCP5",
        "colab_type": "text"
      },
      "source": [
        "##### Table 1.1 sl .no 1 and .no 2"
      ]
    },
    {
      "cell_type": "code",
      "metadata": {
        "id": "gW6d1b8RWpIH",
        "colab_type": "code",
        "colab": {
          "base_uri": "https://localhost:8080/",
          "height": 0
        },
        "outputId": "dfd7fa3a-40c8-498a-f046-769428f1874f"
      },
      "source": [
        "#cleaning the Data\n",
        "\n",
        "#matching the case (standerdize the columns)\n",
        "\n",
        "companies.permalink=companies.permalink.apply(lambda x: x.lower())\n",
        "rounds2.company_permalink=rounds2.company_permalink.apply(lambda x: x.lower())\n",
        "\n",
        "#find unique values Table 1.1 sl .no 1\n",
        "\n",
        "print('Total number of unique companies in rounds2 file is ',rounds2['company_permalink'].nunique())\n",
        "print('Total number of unique companies in companies file is ',companies['permalink'].nunique())\n",
        "# print(companies.groupby(list(companies)).size().reset_index(name='Count').size)\n",
        "# print(rounds2.groupby(list(rounds2)).size().reset_index(name='Count').size)"
      ],
      "execution_count": 417,
      "outputs": [
        {
          "output_type": "stream",
          "text": [
            "Total number of unique companies in rounds2 file is  66368\n",
            "Total number of unique companies in companies file is  66368\n"
          ],
          "name": "stdout"
        }
      ]
    },
    {
      "cell_type": "markdown",
      "metadata": {
        "id": "tU6eoZxcQKig",
        "colab_type": "text"
      },
      "source": [
        "##### Table 1.1 sl .no 3\n"
      ]
    },
    {
      "cell_type": "markdown",
      "metadata": {
        "id": "SZGBgMMvQRUf",
        "colab_type": "text"
      },
      "source": [
        "In the companies dataframe column **permalink** can be used as unique key"
      ]
    },
    {
      "cell_type": "markdown",
      "metadata": {
        "id": "4tc95jklPhrj",
        "colab_type": "text"
      },
      "source": [
        "##### Table 1.1 sl .no 4"
      ]
    },
    {
      "cell_type": "code",
      "metadata": {
        "id": "Il3xEM-UreW7",
        "colab_type": "code",
        "colab": {
          "base_uri": "https://localhost:8080/",
          "height": 0
        },
        "outputId": "9675f434-7dc3-424b-8040-7ac8d4d50b91"
      },
      "source": [
        "#if rounds2 have companies that are not in companies csv \n",
        "\n",
        "#find the difference\n",
        "a=set(companies.permalink.tolist())\n",
        "b=set(rounds2.company_permalink.tolist())\n",
        "z=b.difference(a)\n",
        "ans=lambda :'Yes' if len(list(z))>0 else 'No'\n",
        "print(\"Are there any companies in the rounds2 file which are not  present in companies ? Answer Y/N.\",ans())\n",
        "#print(z)\n"
      ],
      "execution_count": 418,
      "outputs": [
        {
          "output_type": "stream",
          "text": [
            "Are there any companies in the rounds2 file which are not  present in companies ? Answer Y/N. No\n"
          ],
          "name": "stdout"
        }
      ]
    },
    {
      "cell_type": "markdown",
      "metadata": {
        "id": "pV7NTnPGQpo3",
        "colab_type": "text"
      },
      "source": [
        "##### Table 1.1 sl .no 5"
      ]
    },
    {
      "cell_type": "code",
      "metadata": {
        "id": "ar6cnldiTS0M",
        "colab_type": "code",
        "colab": {
          "base_uri": "https://localhost:8080/",
          "height": 0
        },
        "outputId": "b7d29822-1ac2-4857-cdaf-2bcacc5afb11"
      },
      "source": [
        "#merge the two data frame\n",
        "#first changing the column name and do indexing to ease the process \n",
        "\n",
        "companies.set_index('permalink')\n",
        "rounds2=rounds2.rename(columns={'company_permalink':'permalink'})\n",
        "rounds2.set_index('permalink')\n",
        "\n",
        "# merging the tables \n",
        "master_frame=pd.merge(companies,rounds2,on='permalink')\n",
        "master_frame.info()\n"
      ],
      "execution_count": 419,
      "outputs": [
        {
          "output_type": "stream",
          "text": [
            "<class 'pandas.core.frame.DataFrame'>\n",
            "Int64Index: 114949 entries, 0 to 114948\n",
            "Data columns (total 15 columns):\n",
            " #   Column                   Non-Null Count   Dtype  \n",
            "---  ------                   --------------   -----  \n",
            " 0   permalink                114949 non-null  object \n",
            " 1   name                     114948 non-null  object \n",
            " 2   homepage_url             108815 non-null  object \n",
            " 3   category_list            111539 non-null  object \n",
            " 4   status                   114949 non-null  object \n",
            " 5   country_code             106271 non-null  object \n",
            " 6   state_code               104003 non-null  object \n",
            " 7   region                   104782 non-null  object \n",
            " 8   city                     104785 non-null  object \n",
            " 9   founded_at               94428 non-null   object \n",
            " 10  funding_round_permalink  114949 non-null  object \n",
            " 11  funding_round_type       114949 non-null  object \n",
            " 12  funding_round_code       31140 non-null   object \n",
            " 13  funded_at                114949 non-null  object \n",
            " 14  raised_amount_usd        94959 non-null   float64\n",
            "dtypes: float64(1), object(14)\n",
            "memory usage: 14.0+ MB\n"
          ],
          "name": "stdout"
        }
      ]
    },
    {
      "cell_type": "markdown",
      "metadata": {
        "id": "msvJGmrTupxm",
        "colab_type": "text"
      },
      "source": [
        "#Check Point 2 ( Funding Type Analysis )\n"
      ]
    },
    {
      "cell_type": "markdown",
      "metadata": {
        "id": "KEOOvbrlB0ps",
        "colab_type": "text"
      },
      "source": [
        "##### Table 2.1 sl .no 1,2,3,4 \n",
        "Average Values of Investments for Each of these Funding Types"
      ]
    },
    {
      "cell_type": "markdown",
      "metadata": {
        "id": "byzNR5v8TsdI",
        "colab_type": "text"
      },
      "source": [
        "###### before checking the average value we will **Clean Data** and check for outliers "
      ]
    },
    {
      "cell_type": "code",
      "metadata": {
        "id": "nGt6PWc03ZTH",
        "colab_type": "code",
        "colab": {
          "base_uri": "https://localhost:8080/",
          "height": 0
        },
        "outputId": "01a63ff0-a857-4786-9776-d8c107366e31"
      },
      "source": [
        "master_frame.isnull().sum()"
      ],
      "execution_count": 420,
      "outputs": [
        {
          "output_type": "execute_result",
          "data": {
            "text/plain": [
              "permalink                      0\n",
              "name                           1\n",
              "homepage_url                6134\n",
              "category_list               3410\n",
              "status                         0\n",
              "country_code                8678\n",
              "state_code                 10946\n",
              "region                     10167\n",
              "city                       10164\n",
              "founded_at                 20521\n",
              "funding_round_permalink        0\n",
              "funding_round_type             0\n",
              "funding_round_code         83809\n",
              "funded_at                      0\n",
              "raised_amount_usd          19990\n",
              "dtype: int64"
            ]
          },
          "metadata": {
            "tags": []
          },
          "execution_count": 420
        }
      ]
    },
    {
      "cell_type": "code",
      "metadata": {
        "id": "FiqRoKMU31oq",
        "colab_type": "code",
        "colab": {
          "base_uri": "https://localhost:8080/",
          "height": 0
        },
        "outputId": "6bfe6ff7-21e0-4862-ab3f-77d9b9587749"
      },
      "source": [
        "# Drop the columns which are not in use for further analysis\n",
        "master_frame = master_frame.drop(['homepage_url','state_code','region','city','funding_round_code','founded_at'], axis=1)\n",
        "\n",
        "#show null in percentage\n",
        "print(round(100 *(master_frame.isnull().sum()/len(master_frame)) , 2))"
      ],
      "execution_count": 421,
      "outputs": [
        {
          "output_type": "stream",
          "text": [
            "permalink                  0.00\n",
            "name                       0.00\n",
            "category_list              2.97\n",
            "status                     0.00\n",
            "country_code               7.55\n",
            "funding_round_permalink    0.00\n",
            "funding_round_type         0.00\n",
            "funded_at                  0.00\n",
            "raised_amount_usd         17.39\n",
            "dtype: float64\n"
          ],
          "name": "stdout"
        }
      ]
    },
    {
      "cell_type": "code",
      "metadata": {
        "id": "8wm_UPHe5mAZ",
        "colab_type": "code",
        "colab": {
          "base_uri": "https://localhost:8080/",
          "height": 0
        },
        "outputId": "2773a926-1533-4e88-c2f1-1329e4fdaf95"
      },
      "source": [
        "# fill the missing raised_amount_usd with median as 17.39 is enough to influence the analysis we shall not drop it.\n",
        "master_frame.raised_amount_usd=master_frame.raised_amount_usd.fillna(master_frame.raised_amount_usd.quantile(q=0.50))\n",
        "#show null in percentage\n",
        "print(round(100 *(master_frame.isnull().sum()/len(master_frame)) , 2))"
      ],
      "execution_count": 422,
      "outputs": [
        {
          "output_type": "stream",
          "text": [
            "permalink                 0.00\n",
            "name                      0.00\n",
            "category_list             2.97\n",
            "status                    0.00\n",
            "country_code              7.55\n",
            "funding_round_permalink   0.00\n",
            "funding_round_type        0.00\n",
            "funded_at                 0.00\n",
            "raised_amount_usd         0.00\n",
            "dtype: float64\n"
          ],
          "name": "stdout"
        }
      ]
    },
    {
      "cell_type": "code",
      "metadata": {
        "id": "WaabBXqZ9kmx",
        "colab_type": "code",
        "colab": {}
      },
      "source": [
        "# as the null values for category_list and country_code are small in percentage (i.r. 2.97 and 7.55) they can be dropped.\n",
        "\n",
        "# removing rows with missing category_list values\n",
        "master_frame = master_frame[~master_frame['category_list'].isnull()]\n",
        "\n",
        "# removing rows with missing country_codes\n",
        "master_frame = master_frame[~master_frame['country_code'].isnull()]"
      ],
      "execution_count": 423,
      "outputs": []
    },
    {
      "cell_type": "code",
      "metadata": {
        "id": "xDfoVRxW8s4O",
        "colab_type": "code",
        "colab": {
          "base_uri": "https://localhost:8080/",
          "height": 0
        },
        "outputId": "7dff3529-3c05-423c-c89c-1f6b85222396"
      },
      "source": [
        "# count the number of rows having > 2 missing values\n",
        "len(master_frame[master_frame.isnull().sum(axis=1) > 1].index)\n",
        "\n",
        "# at this point the data is pretty clean"
      ],
      "execution_count": 424,
      "outputs": [
        {
          "output_type": "execute_result",
          "data": {
            "text/plain": [
              "0"
            ]
          },
          "metadata": {
            "tags": []
          },
          "execution_count": 424
        }
      ]
    },
    {
      "cell_type": "code",
      "metadata": {
        "id": "ONm8gm1C-yOj",
        "colab_type": "code",
        "colab": {
          "base_uri": "https://localhost:8080/",
          "height": 0
        },
        "outputId": "5f61304d-b417-4ce0-8354-c058eb60fa66"
      },
      "source": [
        "# #remove null values \n",
        "# master_frame=master_frame[~master_frame.raised_amount_usd.isnull()]\n",
        "\n",
        "\n",
        "\n",
        "df=master_frame\n",
        "\n",
        "\n",
        "#using a scatter plot to see if there are outliers\n",
        "ser=df.raised_amount_usd\n",
        "plt.scatter(ser.index, ser)\n",
        "plt.show()\n",
        "\n",
        "df.raised_amount_usd.plot.box()\n",
        "plt.show()"
      ],
      "execution_count": 425,
      "outputs": [
        {
          "output_type": "display_data",
          "data": {
            "image/png": "[encoded data removed]",
            "text/plain": [
              "<Figure size 432x288 with 1 Axes>"
            ]
          },
          "metadata": {
            "tags": [],
            "needs_background": "light"
          }
        },
        {
          "output_type": "display_data",
          "data": {
            "image/png": "[encoded data removed]",
            "text/plain": [
              "<Figure size 432x288 with 1 Axes>"
            ]
          },
          "metadata": {
            "tags": [],
            "needs_background": "light"
          }
        }
      ]
    },
    {
      "cell_type": "code",
      "metadata": {
        "id": "Tsq3yzgw-h5J",
        "colab_type": "code",
        "colab": {
          "base_uri": "https://localhost:8080/",
          "height": 0
        },
        "outputId": "1159be32-9212-40fd-8a68-651a104bc9ea"
      },
      "source": [
        "# as you can see there are two values greater than 1.5e+10 that are clearly ourliers\n",
        "\n",
        "# now invetigatng the difference between percenile\n",
        "master_frame.raised_amount_usd.quantile(q=[0.97,0.98,0.99,1])"
      ],
      "execution_count": 426,
      "outputs": [
        {
          "output_type": "execute_result",
          "data": {
            "text/plain": [
              "0.97      44000000.00\n",
              "0.98      60000000.00\n",
              "0.99     100000000.00\n",
              "1.00   21271935000.00\n",
              "Name: raised_amount_usd, dtype: float64"
            ]
          },
          "metadata": {
            "tags": []
          },
          "execution_count": 426
        }
      ]
    },
    {
      "cell_type": "code",
      "metadata": {
        "id": "A2UDJ2H1_YCY",
        "colab_type": "code",
        "colab": {
          "base_uri": "https://localhost:8080/",
          "height": 0
        },
        "outputId": "fef05f61-2735-4dad-cdd6-c500de9b9810"
      },
      "source": [
        "# now lets see how many records are greater than 98th quatile\n",
        "master_frame[master_frame.raised_amount_usd>master_frame.raised_amount_usd.quantile(q=0.99)]"
      ],
      "execution_count": 427,
      "outputs": [
        {
          "output_type": "execute_result",
          "data": {
            "text/html": [
              "<div>\n",
              "<style scoped>\n",
              "    .dataframe tbody tr th:only-of-type {\n",
              "        vertical-align: middle;\n",
              "    }\n",
              "\n",
              "    .dataframe tbody tr th {\n",
              "        vertical-align: top;\n",
              "    }\n",
              "\n",
              "    .dataframe thead th {\n",
              "        text-align: right;\n",
              "    }\n",
              "</style>\n",
              "<table border=\"1\" class=\"dataframe\">\n",
              "  <thead>\n",
              "    <tr style=\"text-align: right;\">\n",
              "      <th></th>\n",
              "      <th>permalink</th>\n",
              "      <th>name</th>\n",
              "      <th>category_list</th>\n",
              "      <th>status</th>\n",
              "      <th>country_code</th>\n",
              "      <th>funding_round_permalink</th>\n",
              "      <th>funding_round_type</th>\n",
              "      <th>funded_at</th>\n",
              "      <th>raised_amount_usd</th>\n",
              "    </tr>\n",
              "  </thead>\n",
              "  <tbody>\n",
              "    <tr>\n",
              "      <th>153</th>\n",
              "      <td>/organization/1c-company</td>\n",
              "      <td>1C Company</td>\n",
              "      <td>Games|Software|Video Games</td>\n",
              "      <td>closed</td>\n",
              "      <td>RUS</td>\n",
              "      <td>/funding-round/679ae989d9dd8195e989dda21eff44b7</td>\n",
              "      <td>private_equity</td>\n",
              "      <td>03-10-2011</td>\n",
              "      <td>200000000.00</td>\n",
              "    </tr>\n",
              "    <tr>\n",
              "      <th>228</th>\n",
              "      <td>/organization/21e6</td>\n",
              "      <td>21 Inc</td>\n",
              "      <td>Big Data|Bitcoin|Hardware + Software|Technology</td>\n",
              "      <td>operating</td>\n",
              "      <td>USA</td>\n",
              "      <td>/funding-round/b58f3c0c3f9747ecb9c76b106ca211e5</td>\n",
              "      <td>venture</td>\n",
              "      <td>10-03-2015</td>\n",
              "      <td>116000000.00</td>\n",
              "    </tr>\n",
              "    <tr>\n",
              "      <th>231</th>\n",
              "      <td>/organization/21st-century-oncology</td>\n",
              "      <td>21st Century Oncology</td>\n",
              "      <td>Health and Wellness</td>\n",
              "      <td>operating</td>\n",
              "      <td>USA</td>\n",
              "      <td>/funding-round/261bff457e1b31c4879e786ab7cf80ab</td>\n",
              "      <td>private_equity</td>\n",
              "      <td>26-09-2014</td>\n",
              "      <td>325000000.00</td>\n",
              "    </tr>\n",
              "    <tr>\n",
              "      <th>236</th>\n",
              "      <td>/organization/21vianet</td>\n",
              "      <td>21viaNet</td>\n",
              "      <td>Software|Web Hosting</td>\n",
              "      <td>ipo</td>\n",
              "      <td>CHN</td>\n",
              "      <td>/funding-round/8890faf6c63a59e570ff3a2268994376</td>\n",
              "      <td>venture</td>\n",
              "      <td>04-12-2014</td>\n",
              "      <td>296000000.00</td>\n",
              "    </tr>\n",
              "    <tr>\n",
              "      <th>253</th>\n",
              "      <td>/organization/23andme</td>\n",
              "      <td>23andMe</td>\n",
              "      <td>Biotechnology|Search</td>\n",
              "      <td>operating</td>\n",
              "      <td>USA</td>\n",
              "      <td>/funding-round/cf66108828b7b22e45bbe02cf8a9fc50</td>\n",
              "      <td>venture</td>\n",
              "      <td>03-07-2015</td>\n",
              "      <td>115000000.00</td>\n",
              "    </tr>\n",
              "    <tr>\n",
              "      <th>...</th>\n",
              "      <td>...</td>\n",
              "      <td>...</td>\n",
              "      <td>...</td>\n",
              "      <td>...</td>\n",
              "      <td>...</td>\n",
              "      <td>...</td>\n",
              "      <td>...</td>\n",
              "      <td>...</td>\n",
              "      <td>...</td>\n",
              "    </tr>\n",
              "    <tr>\n",
              "      <th>114131</th>\n",
              "      <td>/organization/zhaopin</td>\n",
              "      <td>Zhaopin</td>\n",
              "      <td>Curated Web|Internet</td>\n",
              "      <td>operating</td>\n",
              "      <td>CHN</td>\n",
              "      <td>/funding-round/5bdcf1ada9cdcef1ab6fa03e357460f8</td>\n",
              "      <td>debt_financing</td>\n",
              "      <td>13-07-2008</td>\n",
              "      <td>110000000.00</td>\n",
              "    </tr>\n",
              "    <tr>\n",
              "      <th>114479</th>\n",
              "      <td>/organization/zocdoc</td>\n",
              "      <td>ZocDoc</td>\n",
              "      <td>Dental|Doctors|Health and Wellness|Health Care</td>\n",
              "      <td>operating</td>\n",
              "      <td>USA</td>\n",
              "      <td>/funding-round/587d42d9d071fef639b0acf3d9635a20</td>\n",
              "      <td>venture</td>\n",
              "      <td>20-08-2015</td>\n",
              "      <td>130000000.00</td>\n",
              "    </tr>\n",
              "    <tr>\n",
              "      <th>114805</th>\n",
              "      <td>/organization/zuora</td>\n",
              "      <td>Zuora</td>\n",
              "      <td>Billing|SaaS|Software</td>\n",
              "      <td>operating</td>\n",
              "      <td>USA</td>\n",
              "      <td>/funding-round/fd20960c206d492ea2c2c7f21289c1e8</td>\n",
              "      <td>venture</td>\n",
              "      <td>11-03-2015</td>\n",
              "      <td>115000000.00</td>\n",
              "    </tr>\n",
              "    <tr>\n",
              "      <th>114911</th>\n",
              "      <td>/organization/zynga</td>\n",
              "      <td>Zynga</td>\n",
              "      <td>Facebook Applications|Games|Networking|Technology</td>\n",
              "      <td>ipo</td>\n",
              "      <td>USA</td>\n",
              "      <td>/funding-round/a6ebc53cf3c0c97d1cdd075f6bbf31fa</td>\n",
              "      <td>venture</td>\n",
              "      <td>18-02-2011</td>\n",
              "      <td>490000000.00</td>\n",
              "    </tr>\n",
              "    <tr>\n",
              "      <th>114912</th>\n",
              "      <td>/organization/zynga</td>\n",
              "      <td>Zynga</td>\n",
              "      <td>Facebook Applications|Games|Networking|Technology</td>\n",
              "      <td>ipo</td>\n",
              "      <td>USA</td>\n",
              "      <td>/funding-round/cf8299f657f7fd4cf01054ee1934109c</td>\n",
              "      <td>venture</td>\n",
              "      <td>14-06-2010</td>\n",
              "      <td>300000000.00</td>\n",
              "    </tr>\n",
              "  </tbody>\n",
              "</table>\n",
              "<p>986 rows × 9 columns</p>\n",
              "</div>"
            ],
            "text/plain": [
              "                                  permalink  ... raised_amount_usd\n",
              "153                /organization/1c-company  ...      200000000.00\n",
              "228                      /organization/21e6  ...      116000000.00\n",
              "231     /organization/21st-century-oncology  ...      325000000.00\n",
              "236                  /organization/21vianet  ...      296000000.00\n",
              "253                   /organization/23andme  ...      115000000.00\n",
              "...                                     ...  ...               ...\n",
              "114131                /organization/zhaopin  ...      110000000.00\n",
              "114479                 /organization/zocdoc  ...      130000000.00\n",
              "114805                  /organization/zuora  ...      115000000.00\n",
              "114911                  /organization/zynga  ...      490000000.00\n",
              "114912                  /organization/zynga  ...      300000000.00\n",
              "\n",
              "[986 rows x 9 columns]"
            ]
          },
          "metadata": {
            "tags": []
          },
          "execution_count": 427
        }
      ]
    },
    {
      "cell_type": "code",
      "metadata": {
        "id": "ZSH3i5CKWq42",
        "colab_type": "code",
        "colab": {
          "base_uri": "https://localhost:8080/",
          "height": 0
        },
        "outputId": "efff3b1a-8ff4-4dff-9604-db14f02a2f8a"
      },
      "source": [
        "#after looking at the scatter plot, it is clear that the values above 1e+10 are outliers \n",
        "#this few outliers that will influce the mean so we will remove those outliers\n",
        "\n",
        "#removing values above 1e+10 to remove outliers \n",
        "master_frame=master_frame[master_frame.raised_amount_usd<int(1e+10)]\n",
        "\n",
        "\n",
        "\n",
        "#after removing the outliers verifying it with the help of plots\n",
        "\n",
        "#using a scatter plot to see if there are outliers\n",
        "ser=master_frame.raised_amount_usd\n",
        "plt.scatter(ser.index, ser)\n",
        "plt.show()\n",
        "# using box plot to check the range of data\n",
        "ser=master_frame.raised_amount_usd\n",
        "plt.boxplot( ser)\n",
        "plt.show()\n"
      ],
      "execution_count": 428,
      "outputs": [
        {
          "output_type": "display_data",
          "data": {
            "image/png": "[encoded data removed]",
            "text/plain": [
              "<Figure size 432x288 with 1 Axes>"
            ]
          },
          "metadata": {
            "tags": [],
            "needs_background": "light"
          }
        },
        {
          "output_type": "display_data",
          "data": {
            "image/png": "[encoded data removed]",
            "text/plain": [
              "<Figure size 432x288 with 1 Axes>"
            ]
          },
          "metadata": {
            "tags": [],
            "needs_background": "light"
          }
        }
      ]
    },
    {
      "cell_type": "markdown",
      "metadata": {
        "id": "UHfNNkrgbReR",
        "colab_type": "text"
      },
      "source": [
        "######Now that the major outliers are removed and data cleaned, we can calculate the average which can be more representative"
      ]
    },
    {
      "cell_type": "code",
      "metadata": {
        "id": "G_DI3JDcsIl_",
        "colab_type": "code",
        "colab": {
          "base_uri": "https://localhost:8080/",
          "height": 0
        },
        "outputId": "26c91c14-7458-45d1-bf3d-75527d8447de"
      },
      "source": [
        "# Analysing througout all sectors\n",
        "pivot=pd.pivot_table(master_frame,values='raised_amount_usd',columns='funding_round_type',aggfunc='mean')\n",
        "pivot=pivot.apply(lambda a : a/1000000,axis=1)  \n",
        "pivot.plot.bar(figsize=(10,5))\n",
        "\n",
        "\n",
        "print(round(pivot))"
      ],
      "execution_count": 429,
      "outputs": [
        {
          "output_type": "stream",
          "text": [
            "funding_round_type  angel  convertible_note  ...  undisclosed  venture\n",
            "raised_amount_usd    1.00              1.00  ...         7.00    11.00\n",
            "\n",
            "[1 rows x 14 columns]\n"
          ],
          "name": "stdout"
        },
        {
          "output_type": "display_data",
          "data": {
            "image/png": "[encoded data removed]",
            "text/plain": [
              "<Figure size 720x360 with 1 Axes>"
            ]
          },
          "metadata": {
            "tags": [],
            "needs_background": "light"
          }
        }
      ]
    },
    {
      "cell_type": "code",
      "metadata": {
        "id": "8yDKJJoyuwJ7",
        "colab_type": "code",
        "colab": {
          "base_uri": "https://localhost:8080/",
          "height": 0
        },
        "outputId": "4aa9c4b9-c576-4fbc-b233-18ea5bab01e2"
      },
      "source": [
        "#Analysing the four fund types ['private_equity','venture','seed','angel']\n",
        "\n",
        "\n",
        "master_frame.funding_round_type.unique()\n",
        "fundtypes=np.array(['private_equity','venture','seed','angel'])\n",
        "subset=master_frame[master_frame.funding_round_type.isin(fundtypes)]\n",
        "pivot=pd.pivot_table(subset,values='raised_amount_usd',columns='funding_round_type',aggfunc=np.mean)\n",
        "print(round(pivot))\n",
        "pivot=pivot.apply(lambda a : a/1000000,axis=1)\n",
        "pivot.plot.barh(figsize=(10,5))"
      ],
      "execution_count": 430,
      "outputs": [
        {
          "output_type": "stream",
          "text": [
            "funding_round_type      angel  private_equity      seed     venture\n",
            "raised_amount_usd  1104671.00     65675409.00 936292.00 10572376.00\n"
          ],
          "name": "stdout"
        },
        {
          "output_type": "execute_result",
          "data": {
            "text/plain": [
              "<matplotlib.axes._subplots.AxesSubplot at 0x7f7af8f70208>"
            ]
          },
          "metadata": {
            "tags": []
          },
          "execution_count": 430
        },
        {
          "output_type": "display_data",
          "data": {
            "image/png": "[encoded data removed]",
            "text/plain": [
              "<Figure size 720x360 with 1 Axes>"
            ]
          },
          "metadata": {
            "tags": [],
            "needs_background": "light"
          }
        }
      ]
    },
    {
      "cell_type": "markdown",
      "metadata": {
        "id": "GhDosYHk-x6u",
        "colab_type": "text"
      },
      "source": [
        "As per the requirement of Spark funds to to invest between 5 to 15 million USD per investment round it is clear to that best suitable fund type is **venture**"
      ]
    },
    {
      "cell_type": "markdown",
      "metadata": {
        "id": "qJQAMMvJdNXI",
        "colab_type": "text"
      },
      "source": [
        "##### Table 2.1 sl .no 5"
      ]
    },
    {
      "cell_type": "markdown",
      "metadata": {
        "id": "RTScBdFpdTnO",
        "colab_type": "text"
      },
      "source": [
        "As per the graph above the most invested funding round type is **Venture**."
      ]
    },
    {
      "cell_type": "code",
      "metadata": {
        "id": "g0aGHn79CGLt",
        "colab_type": "code",
        "colab": {
          "base_uri": "https://localhost:8080/",
          "height": 0
        },
        "outputId": "1301cd52-a2e6-4047-f661-9c54a56aaa51"
      },
      "source": [
        "#before making any changeg maintaining a backup\n",
        "bkb_master_frame=master_frame\n",
        "\n",
        "#filter data so it has only the chosen fund type\n",
        "before=master_frame.size\n",
        "\n",
        "#filter venture fundings\n",
        "master_frame=master_frame[master_frame.funding_round_type=='venture']\n",
        "\n",
        "\n",
        "\n",
        "#removing nulls\n",
        "master_frame=master_frame[~master_frame.country_code.isnull()]\n",
        "master_frame=master_frame[~master_frame.category_list.isnull()]\n",
        "\n",
        "after=master_frame.size\n",
        "res=before-after\n",
        "print('before filteration row count was ',before,' after filteration row count is ',after,' total loss ',res,' rows')"
      ],
      "execution_count": 431,
      "outputs": [
        {
          "output_type": "stream",
          "text": [
            "before filteration row count was  940770  after filteration row count is  468207  total loss  472563  rows\n"
          ],
          "name": "stdout"
        }
      ]
    },
    {
      "cell_type": "markdown",
      "metadata": {
        "id": "9nyeU6QOf6mn",
        "colab_type": "text"
      },
      "source": [
        "#Check Point 3 ( Country Analysis )"
      ]
    },
    {
      "cell_type": "markdown",
      "metadata": {
        "id": "mvvOLMy6giR2",
        "colab_type": "text"
      },
      "source": [
        "Now we will analyze the top 9 countries with the most investment recieved."
      ]
    },
    {
      "cell_type": "code",
      "metadata": {
        "id": "3HPlJVEiPj_H",
        "colab_type": "code",
        "colab": {
          "base_uri": "https://localhost:8080/",
          "height": 0
        },
        "outputId": "323b3e40-a338-4432-9760-36f6702b9884"
      },
      "source": [
        "top9=master_frame.groupby(['country_code']).agg({'raised_amount_usd': \"sum\"}).sort_values(by='raised_amount_usd',ascending=False).head(9)\n",
        "top9.raised_amount_usd=top9.raised_amount_usd.apply(lambda x:round(x))\n",
        "res=top9.apply(lambda a : a/1000000,axis=1)\n",
        "print( top9 )\n",
        "\n",
        "plt.figure(figsize=(5,5))\n",
        "res.plot.bar()\n",
        "plt.show()\n",
        "\n",
        "\n",
        "#rough code\n",
        "#master_frame[grp]\n",
        "#.sort(['raised_amount_usd'], ascending=[0]).head(9)\n",
        "#top9=pd.pivot_table(master_frame,values='raised_amount_usd',index='country_code',aggfunc='sum')\n",
        "#top9#.sort(['raised_amount_usd'], ascending=[0])"
      ],
      "execution_count": 432,
      "outputs": [
        {
          "output_type": "stream",
          "text": [
            "              raised_amount_usd\n",
            "country_code                   \n",
            "USA                405981977843\n",
            "CHN                 40184215806\n",
            "GBR                 20449247468\n",
            "IND                 14538793033\n",
            "CAN                  9625061103\n",
            "FRA                  7326001501\n",
            "ISR                  7040887198\n",
            "DEU                  6674953890\n",
            "JPN                  3233187056\n"
          ],
          "name": "stdout"
        },
        {
          "output_type": "display_data",
          "data": {
            "text/plain": [
              "<Figure size 360x360 with 0 Axes>"
            ]
          },
          "metadata": {
            "tags": []
          }
        },
        {
          "output_type": "display_data",
          "data": {
            "image/png": "[encoded data removed]",
            "text/plain": [
              "<Figure size 432x288 with 1 Axes>"
            ]
          },
          "metadata": {
            "tags": [],
            "needs_background": "light"
          }
        }
      ]
    },
    {
      "cell_type": "markdown",
      "metadata": {
        "id": "-prblW2Fmi3-",
        "colab_type": "text"
      },
      "source": [
        "##### Table 3.1 sl .no 1,2,3"
      ]
    },
    {
      "cell_type": "markdown",
      "metadata": {
        "id": "nzuYnYQbmTMe",
        "colab_type": "text"
      },
      "source": [
        "Now that we have the top 9 countries with most investment we are going to find the top 3 english countries"
      ]
    },
    {
      "cell_type": "code",
      "metadata": {
        "id": "PP8mEUQjh0FL",
        "colab_type": "code",
        "colab": {
          "base_uri": "https://localhost:8080/",
          "height": 0
        },
        "outputId": "3c5b00ee-f3d0-491e-89c1-3c07894c18d9"
      },
      "source": [
        "#this list is referred from wiki link https://en.wikipedia.org/wiki/List_of_territorial_entities_where_English_is_an_official_language\n",
        "englishcountries=np.array(['AUS','NZL','GBR','USA','ATG','BHS','BRB','BLZ','BWA','BDI','CMR','CAN','COK','DMA','SWZ','FJI','GMB','GHA','GRD','GUY','IND','IRL','JAM','KEN','KIR','LSO','LBR','MWI','MLT','MHL','MUS','FSM','NAM','NRU','NGA','NIU','PAK','PLW','PNG','PHL','RWA','KNA','LCA','VCT','WSM','SYC','SLE','SGP','SLB','ZAF','SSD','SDN','TZA','TON','TTO','TUV','UGA','VUT','ZMB','ZWE'])\n",
        "top3=top9[top9.index.isin(englishcountries)].sort_values(by='raised_amount_usd',ascending=False).head(3)\n",
        "res=top3.apply(lambda a : a/1000000,axis=1)\n",
        "res.plot.bar()\n",
        "print(top3)"
      ],
      "execution_count": 433,
      "outputs": [
        {
          "output_type": "stream",
          "text": [
            "              raised_amount_usd\n",
            "country_code                   \n",
            "USA                405981977843\n",
            "GBR                 20449247468\n",
            "IND                 14538793033\n"
          ],
          "name": "stdout"
        },
        {
          "output_type": "display_data",
          "data": {
            "image/png": "[encoded data removed]",
            "text/plain": [
              "<Figure size 432x288 with 1 Axes>"
            ]
          },
          "metadata": {
            "tags": [],
            "needs_background": "light"
          }
        }
      ]
    },
    {
      "cell_type": "markdown",
      "metadata": {
        "id": "qp95T4XzB2nA",
        "colab_type": "text"
      },
      "source": [
        "#Checkpoint 4 ( Sector Analysis 1 )"
      ]
    },
    {
      "cell_type": "markdown",
      "metadata": {
        "id": "lEY3hm9HCLGq",
        "colab_type": "text"
      },
      "source": [
        "##Loading the mapping file and understanding the data"
      ]
    },
    {
      "cell_type": "code",
      "metadata": {
        "id": "TN0PNUJ8nTS0",
        "colab_type": "code",
        "colab": {
          "base_uri": "https://localhost:8080/",
          "height": 0
        },
        "outputId": "b2fcd2d0-3502-4679-cd68-f55a14e838c8"
      },
      "source": [
        "mapping_df=pd.read_csv(r'https://cdn.upgrad.com/UpGrad/temp/231dc91c-0642-470d-a362-29ddcd7142ce/mapping.csv', encoding= 'palmos')\n",
        "#master_frame[master_frame.category_list.str.contains('Application Platforms')]\n",
        "\n",
        "#removing null categories from both mapping and master \n",
        "mapping_df=mapping_df[~mapping_df.category_list.isnull()]\n",
        "master_frame=master_frame[~master_frame.category_list.isnull()]\n",
        "\n",
        "mapping_df.head(5)"
      ],
      "execution_count": 434,
      "outputs": [
        {
          "output_type": "execute_result",
          "data": {
            "text/html": [
              "<div>\n",
              "<style scoped>\n",
              "    .dataframe tbody tr th:only-of-type {\n",
              "        vertical-align: middle;\n",
              "    }\n",
              "\n",
              "    .dataframe tbody tr th {\n",
              "        vertical-align: top;\n",
              "    }\n",
              "\n",
              "    .dataframe thead th {\n",
              "        text-align: right;\n",
              "    }\n",
              "</style>\n",
              "<table border=\"1\" class=\"dataframe\">\n",
              "  <thead>\n",
              "    <tr style=\"text-align: right;\">\n",
              "      <th></th>\n",
              "      <th>category_list</th>\n",
              "      <th>Automotive &amp; Sports</th>\n",
              "      <th>Blanks</th>\n",
              "      <th>Cleantech / Semiconductors</th>\n",
              "      <th>Entertainment</th>\n",
              "      <th>Health</th>\n",
              "      <th>Manufacturing</th>\n",
              "      <th>News, Search and Messaging</th>\n",
              "      <th>Others</th>\n",
              "      <th>Social, Finance, Analytics, Advertising</th>\n",
              "    </tr>\n",
              "  </thead>\n",
              "  <tbody>\n",
              "    <tr>\n",
              "      <th>1</th>\n",
              "      <td>3D</td>\n",
              "      <td>0</td>\n",
              "      <td>0</td>\n",
              "      <td>0</td>\n",
              "      <td>0</td>\n",
              "      <td>0</td>\n",
              "      <td>1</td>\n",
              "      <td>0</td>\n",
              "      <td>0</td>\n",
              "      <td>0</td>\n",
              "    </tr>\n",
              "    <tr>\n",
              "      <th>2</th>\n",
              "      <td>3D Printing</td>\n",
              "      <td>0</td>\n",
              "      <td>0</td>\n",
              "      <td>0</td>\n",
              "      <td>0</td>\n",
              "      <td>0</td>\n",
              "      <td>1</td>\n",
              "      <td>0</td>\n",
              "      <td>0</td>\n",
              "      <td>0</td>\n",
              "    </tr>\n",
              "    <tr>\n",
              "      <th>3</th>\n",
              "      <td>3D Technology</td>\n",
              "      <td>0</td>\n",
              "      <td>0</td>\n",
              "      <td>0</td>\n",
              "      <td>0</td>\n",
              "      <td>0</td>\n",
              "      <td>1</td>\n",
              "      <td>0</td>\n",
              "      <td>0</td>\n",
              "      <td>0</td>\n",
              "    </tr>\n",
              "    <tr>\n",
              "      <th>4</th>\n",
              "      <td>Accounting</td>\n",
              "      <td>0</td>\n",
              "      <td>0</td>\n",
              "      <td>0</td>\n",
              "      <td>0</td>\n",
              "      <td>0</td>\n",
              "      <td>0</td>\n",
              "      <td>0</td>\n",
              "      <td>0</td>\n",
              "      <td>1</td>\n",
              "    </tr>\n",
              "    <tr>\n",
              "      <th>5</th>\n",
              "      <td>Active Lifestyle</td>\n",
              "      <td>0</td>\n",
              "      <td>0</td>\n",
              "      <td>0</td>\n",
              "      <td>0</td>\n",
              "      <td>1</td>\n",
              "      <td>0</td>\n",
              "      <td>0</td>\n",
              "      <td>0</td>\n",
              "      <td>0</td>\n",
              "    </tr>\n",
              "  </tbody>\n",
              "</table>\n",
              "</div>"
            ],
            "text/plain": [
              "      category_list  ...  Social, Finance, Analytics, Advertising\n",
              "1                3D  ...                                        0\n",
              "2       3D Printing  ...                                        0\n",
              "3     3D Technology  ...                                        0\n",
              "4        Accounting  ...                                        1\n",
              "5  Active Lifestyle  ...                                        0\n",
              "\n",
              "[5 rows x 10 columns]"
            ]
          },
          "metadata": {
            "tags": []
          },
          "execution_count": 434
        }
      ]
    },
    {
      "cell_type": "code",
      "metadata": {
        "id": "qhCkUdq1EcaM",
        "colab_type": "code",
        "colab": {
          "base_uri": "https://localhost:8080/",
          "height": 0
        },
        "outputId": "5d384c5d-6a2e-4cff-b73a-2e52f796b507"
      },
      "source": [
        "#checing null values\n",
        "print(mapping_df.category_list.isnull().sum())\n",
        "print(master_frame.category_list.isnull().sum())"
      ],
      "execution_count": 435,
      "outputs": [
        {
          "output_type": "stream",
          "text": [
            "0\n",
            "0\n"
          ],
          "name": "stdout"
        }
      ]
    },
    {
      "cell_type": "code",
      "metadata": {
        "id": "zTrFlOPHGN7T",
        "colab_type": "code",
        "colab": {
          "base_uri": "https://localhost:8080/",
          "height": 0
        },
        "outputId": "97bee215-4103-410e-8fe4-3e485134a3be"
      },
      "source": [
        "#checking for data ambiguity\n",
        "master_frame.category_list[master_frame.category_list.str.contains('Application Platforms')].unique()"
      ],
      "execution_count": 436,
      "outputs": [
        {
          "output_type": "execute_result",
          "data": {
            "text/plain": [
              "array(['Application Platforms|Real Time|Social Network Media',\n",
              "       'Application Platforms|Development Platforms|Mass Customization',\n",
              "       'Application Platforms|Communications Infrastructure|Storage',\n",
              "       'Ad Targeting|Advertising|Application Platforms',\n",
              "       'Application Platforms|Internet|Services',\n",
              "       'Application Platforms|Business Productivity|Cloud Computing|Collaboration|Enterprise Software|Mobile|Mobile Enterprise|Social Business|Software|Web Development|Web Tools',\n",
              "       'Application Platforms|Internet|Software', 'Application Platforms',\n",
              "       'Application Platforms|Enterprises|Systems',\n",
              "       'Application Platforms|Brand Marketing|Communications Infrastructure|Enterprise Software|Mobile Software Tools|Social Media',\n",
              "       'Application Platforms|Medical|Services',\n",
              "       'Application Platforms|Artificial Intelligence|Developer Tools|Development Platforms|EdTech|Operating Systems',\n",
              "       'Application Platforms|Data Centers|Software',\n",
              "       'Analytics|Application Platforms|Big Data|Developer APIs|Development Platforms|Open Source',\n",
              "       'Application Platforms|Development Platforms',\n",
              "       'Application Platforms|Internet|Software|Startups',\n",
              "       'Application Platforms|Design',\n",
              "       'Application Platforms|Entertainment|Mobile',\n",
              "       'Application Platforms|Sensors|Travel',\n",
              "       '3D Technology|Application Platforms|Big Data Analytics|Energy IT|Industrial|Internet of Things|Mobile|Open Source',\n",
              "       'Application Platforms|Location Based Services|Services|Travel',\n",
              "       'Application Platforms|Energy|Internet of Things|Manufacturing|Oil & Gas|Software|Transportation|Utilities',\n",
              "       'Application Platforms|Business Services|Online Rental',\n",
              "       'Application Platforms|Customer Support Tools|Energy Efficiency|Real Estate|Software',\n",
              "       'Application Platforms|Games|Gamification',\n",
              "       'Application Platforms|Technology',\n",
              "       'Application Platforms|Databases|Real Time',\n",
              "       'Application Platforms|Apps|Mobile',\n",
              "       'Application Platforms|Mobile|Software',\n",
              "       'Application Platforms|Consumer Electronics|Internet of Things|Photography|Photo Sharing|Video|Wearables',\n",
              "       'Application Platforms|Health and Wellness|Information Services',\n",
              "       'Application Platforms|Internet|Networking',\n",
              "       'Application Platforms|Education|SaaS',\n",
              "       'Application Platforms|Development Platforms|Internet',\n",
              "       'Android|Application Platforms|App Marketing|Banking|Brand Marketing|CRM|Enterprise Application|Enterprise Software|Field Support Services|Finance|Financial Services|Health Care|Hospitality|iOS|Manufacturing|Media|Mobile|Mobile Commerce|Mobility|Retail|Sales and Marketing|Software|Travel',\n",
              "       'Application Platforms|Brand Marketing|Development Platforms',\n",
              "       'Application Platforms|Cloud Computing|Enterprises',\n",
              "       'Application Platforms|Software',\n",
              "       'Analytics|Application Performance Monitoring|Application Platforms',\n",
              "       'Application Platforms|Data Visualization|Video',\n",
              "       'Application Platforms|Customer Service|Embedded Hardware and Software|Internet of Things|Marketplaces',\n",
              "       'Android|Application Platforms|Apps|App Stores|Developer APIs|Development Platforms|Gps|Hardware + Software|Internet|iOS|Mobile|Wireless',\n",
              "       'Application Platforms|Apps|Employment|Human Resource Automation|Mobile|Recruiting|Skill Assessment|Social Recruiting',\n",
              "       'Application Platforms|Internet|Web Development',\n",
              "       'Application Platforms|Recruiting|Training',\n",
              "       'Application Platforms|Information Services|News',\n",
              "       'Application Platforms|Document Management|Enterprises|Enterprise Software|Open Source|Software',\n",
              "       'Application Platforms|Communications Infrastructure|Financial Services',\n",
              "       'Application Platforms|Banking|Business Services|Data Security|Developer APIs|Health and Insurance|Identity|Identity Management|Insurance|Insurance Companies|Mobile|Mobile Security|Mobile Software Tools|Online Identity|Travel',\n",
              "       'Application Platforms|Service Providers|Travel',\n",
              "       'Application Platforms|SaaS|Sales and Marketing',\n",
              "       'Application Platforms|Enterprise Application|Enterprise Software|Mobile|Mobile Enterprise|Mobile Software Tools|PaaS|Web Development',\n",
              "       'Application Platforms|Data Security|Enterprise Software|Virtualization',\n",
              "       'Application Platforms|Payments|Services',\n",
              "       'Application Platforms|Apps',\n",
              "       'Application Platforms|E-Commerce|Health Care|Health Care Information Technology',\n",
              "       'Application Platforms|Digital Media|Home Automation|Internet of Things|Services|Software',\n",
              "       'Application Platforms|Apps|Web Development',\n",
              "       'Application Platforms|Crowdsourcing|Social Media',\n",
              "       'Application Platforms|Developer APIs|Gamification|Internet of Things|Location Based Services|Mobile Commerce',\n",
              "       'Application Platforms|Enterprise Application|Mobile|Services',\n",
              "       'Application Platforms|Apps|Mobile|Mobile Software Tools',\n",
              "       'Application Platforms|Consumer Electronics',\n",
              "       'Application Platforms|Messaging|Social Media',\n",
              "       'Application Platforms|Manufacturing|Mobile|Mobile Software Tools|Software',\n",
              "       'Application Platforms|Big Data|Business Intelligence|Cloud Infrastructure|Consulting|Enterprise Application|Enterprise Software|Information Security|IT Management|Testing',\n",
              "       'Application Platforms|Automotive|Services',\n",
              "       'Application Platforms|Apps|Messaging|Social Media|Telecommunications',\n",
              "       'Application Platforms|Cloud Computing|Information Technology|Media',\n",
              "       'Application Platforms|E-Commerce|E-Commerce Platforms|Mobile Commerce|SaaS|Software',\n",
              "       'Application Platforms|Cloud Computing|Enterprise Application|Enterprise Software|Open Source|PaaS|Web Development',\n",
              "       'Application Platforms|Internet of Things|Mobile',\n",
              "       'Application Platforms|Apps|Cloud Computing|Developer APIs|Enterprise Software|Internet|Mobile|Video',\n",
              "       'Advertising|Android|App Discovery|Application Platforms|App Marketing|Digital Entertainment|Mobile',\n",
              "       'Application Platforms|Employer Benefits Programs|Employment',\n",
              "       'Application Platforms|Media|Mobile|Video Streaming',\n",
              "       'Application Platforms|Online Identity|Services'], dtype=object)"
            ]
          },
          "metadata": {
            "tags": []
          },
          "execution_count": 436
        }
      ]
    },
    {
      "cell_type": "code",
      "metadata": {
        "id": "DSykSRaJGl0z",
        "colab_type": "code",
        "colab": {
          "base_uri": "https://localhost:8080/",
          "height": 0
        },
        "outputId": "c320e238-dd7d-48cb-d6c6-f22c98a08d53"
      },
      "source": [
        "#after getting the business rule that the first string before the vertical bar will be considered the primary sector\n",
        "\n",
        "#applying that logic to master_dataframe\n",
        "\n",
        "master_frame['primary_sector']=master_frame.category_list.apply(lambda x:x.split('|')[0])\n",
        "\n",
        "#verifying\n",
        "master_frame.primary_sector[master_frame.category_list.str.contains('|')].unique()"
      ],
      "execution_count": 437,
      "outputs": [
        {
          "output_type": "execute_result",
          "data": {
            "text/plain": [
              "array(['Media', 'Application Platforms', 'Curated Web', 'Software',\n",
              "       'Biotechnology', 'Analytics', 'Apps', 'Education', 'Beauty',\n",
              "       'Local Businesses', 'Cosmetics', 'Games', 'Hospitality',\n",
              "       'Health Care', 'Social Travel', 'Enterprise Software',\n",
              "       'E-Commerce', 'Service Providers', 'Mobile', 'Manufacturing',\n",
              "       'Advertising', 'Public Transportation', 'Internet', 'Travel',\n",
              "       'Finance', 'Cars', 'Clean Technology', 'Health and Wellness',\n",
              "       'News', 'Art', 'Big Data', 'Customer Service', 'EdTech',\n",
              "       'Computers', 'Services', 'Cloud Computing', 'Ad Targeting',\n",
              "       'Credit Cards', 'Hardware + Software', 'Internet of Things',\n",
              "       'Cloud Infrastructure', 'SaaS', 'Messaging',\n",
              "       'Information Technology', 'Consumer Electronics', 'Data Centers',\n",
              "       'Point of Sale', 'Artificial Intelligence', 'Android',\n",
              "       'Enterprises', 'Blogging Platforms', 'Project Management',\n",
              "       '3D Technology', '3D', '3D Printing', 'Drones', 'Technology',\n",
              "       'Automotive', 'Automated Kiosk', 'Music', 'Semiconductors',\n",
              "       'Web Hosting', 'Cloud Data Services', 'Consulting', 'Game',\n",
              "       'Physical Security', 'Coupons', 'Security', 'Databases',\n",
              "       'Flash Storage', 'Animal Feed', 'Machine Learning',\n",
              "       'Commercial Real Estate', 'Anything Capital Intensive',\n",
              "       'Human Resources', 'Office Space', 'Online Shopping', 'Carbon',\n",
              "       'Leisure', 'Photography', 'Startups', 'Accounting',\n",
              "       'Concentrated Solar Power', 'B2B', 'Nanotechnology', 'Bicycles',\n",
              "       'Content Creators', 'Brand Marketing', 'Finance Technology',\n",
              "       'Networking', 'Digital Entertainment', 'Exercise',\n",
              "       'Food Processing', 'Crowdsourcing', 'Business Analytics',\n",
              "       'Chemicals', 'Consumer Goods', 'Batteries', 'Search',\n",
              "       'Telecommunications', 'Social Media',\n",
              "       'Health Care Information Technology', 'Oil & Gas', 'Audiobooks',\n",
              "       'Business Services', 'Innovation Engineering', 'Collaboration',\n",
              "       'Real Estate', 'Financial Services', 'Contact Management',\n",
              "       'Information Security', 'Coffee', 'Audio', 'Energy', 'Medical',\n",
              "       'Clean Energy', 'Logistics', 'Domains', 'Career Management',\n",
              "       'Homeland Security', 'Development Platforms', 'Credit',\n",
              "       'Medical Devices', 'Construction', 'Content',\n",
              "       'Internet Radio Market', 'Employer Benefits Programs', 'Design',\n",
              "       'Advertising Platforms', 'Sports', 'CRM', 'Data Integration',\n",
              "       'Hardware', 'Facebook Applications', 'Comparison Shopping',\n",
              "       'Electronics', 'Bio-Pharm', 'Cloud Management',\n",
              "       'Business Intelligence', 'Entertainment', 'Assisitive Technology',\n",
              "       'Child Care', 'Marketing Automation', 'Electrical Distribution',\n",
              "       'Renewable Energies', 'Digital Media', 'Human Resource Automation',\n",
              "       'Big Data Analytics', 'Payments', 'Colleges',\n",
              "       'Embedded Hardware and Software', 'Aerospace', 'Direct Sales',\n",
              "       'DOD/Military', 'Alumni', 'Furniture', 'Consumer Lending',\n",
              "       'Ediscovery', 'Business Development', 'Commodities',\n",
              "       'Information Services', 'Gps', 'Lasers', 'Agriculture',\n",
              "       'Broadcasting', 'Employment', 'Online Travel', 'Hotels',\n",
              "       'Health Diagnostics', 'Content Syndication', 'Public Relations',\n",
              "       'Business Productivity', 'Interface Design', 'iPhone', 'Retail',\n",
              "       'Consumer Internet', 'Mining Technologies', 'Pharmaceuticals',\n",
              "       'Fitness', 'Network Security', 'Data Mining', 'Cloud Security',\n",
              "       'Healthcare Services', 'Charter Schools', 'Architecture',\n",
              "       'Home Automation', 'Document Management', 'Algorithms', 'Bitcoin',\n",
              "       'Internet Service Providers', 'Nonprofits', 'Legal', 'Fashion',\n",
              "       'Industrial', 'Distribution', 'Digital Signage', 'Journalism',\n",
              "       'Communications Hardware', 'Location Based Services',\n",
              "       'Social Commerce', 'Investment Management', 'Video', 'Gambling',\n",
              "       'Internet Marketing', 'Active Lifestyle', 'Wine And Spirits',\n",
              "       'Cannabis', 'Cooking', 'Pets', 'Communities',\n",
              "       'Estimation and Quoting', 'Diagnostics',\n",
              "       'Environmental Innovation', 'Small and Medium Businesses',\n",
              "       'Specialty Foods', 'Energy Management', 'Waste Management',\n",
              "       'Sensors', 'Mobile Security', 'Recruiting', 'Crowdfunding',\n",
              "       'Incubators', 'VoIP', 'Gold', 'Local', 'Property Management',\n",
              "       'Discounts', 'Ticketing', 'Wireless', 'Biometrics',\n",
              "       'Enterprise Security', 'DIY', 'Banking', 'Alternative Medicine',\n",
              "       'Local Search', 'App Discovery', 'Advertising Exchanges',\n",
              "       'Application Performance Monitoring', 'Meeting Software',\n",
              "       'App Stores', 'Opinions', 'Delivery', 'Social Television',\n",
              "       'Online Scheduling', 'Consumers', 'Developer Tools',\n",
              "       'App Marketing', 'All Markets', 'Corporate IT', 'All Students',\n",
              "       'Developer APIs', 'Marketplaces', 'Water', 'Energy Efficiency',\n",
              "       'Brokers', 'Publishing', 'Restaurants', 'Email', 'Therapeutics',\n",
              "       'Cyber Security', 'Photo Sharing', 'Billing', 'Data Security',\n",
              "       'Dental', 'Data Privacy', 'Social Business',\n",
              "       'Intellectual Property', 'Fuels', 'Identity', 'Diabetes',\n",
              "       'Logistics Company', 'English-Speaking', 'Hospitals', 'Auctions',\n",
              "       'Bridging Online and Offline', 'SEO', 'Artists Globally',\n",
              "       'Real Time', 'Film', 'Augmented Reality', 'Defense',\n",
              "       'Lead Management', 'Sales Automation', 'Private School',\n",
              "       'Governments', 'Infrastructure', 'Archiving', 'Bioinformatics',\n",
              "       'Public Safety', 'Fraud Detection', 'IT Management',\n",
              "       'Event Management', 'Enterprise Search', 'Babies', 'File Sharing',\n",
              "       'Classifieds', 'Corporate Training', 'Content Delivery',\n",
              "       'E-Commerce Platforms', 'Entertainment Industry',\n",
              "       'Clinical Trials', 'Events', 'Reviews and Recommendations',\n",
              "       'Navigation', 'iPad', 'Creative Industries', 'Freelancers',\n",
              "       'Collaborative Consumption', 'Internet Infrastructure',\n",
              "       'Communications Infrastructure', 'Advice', 'Coworking',\n",
              "       'Social Network Media', 'E-Books', 'Local Advertising', 'Chat',\n",
              "       'Mobile Commerce', 'FreetoPlay Gaming', 'Cyber',\n",
              "       'Emerging Markets', 'Outsourcing', 'Open Source', 'Mobility',\n",
              "       'Professional Services', 'Transportation', 'Health and Insurance',\n",
              "       'Direct Marketing', 'Licensing', 'Groceries', 'CAD',\n",
              "       'New Technologies', 'Venture Capital', 'Recreation', 'EBooks',\n",
              "       'Comics', 'Non-Tech', 'Email Marketing',\n",
              "       'Product Development Services', 'Home & Garden',\n",
              "       'Lifestyle Businesses', 'Life Sciences', 'Mass Customization',\n",
              "       'Weddings', 'Politics', 'Contact Centers', 'Creative', 'Wearables',\n",
              "       'Gadget', 'Social News', 'Rental Housing', 'Educational Games',\n",
              "       'Organic Food', 'Productivity Software', 'Industrial Automation',\n",
              "       'Optical Communications', 'EDA Tools', 'Insurance',\n",
              "       'Sales and Marketing', 'Online Rental', 'College Campuses',\n",
              "       'Innovation Management', 'Home Decor', 'Parking', 'Gift Card',\n",
              "       'Auto', 'Electronic Health Records', 'Assisted Living',\n",
              "       'Baby Boomers', 'Cable', 'Enterprise Hardware', 'Personalization',\n",
              "       'Law Enforcement', 'Distributors', 'Video Streaming', 'Doctors',\n",
              "       'Knowledge Management', 'Simulation', 'New Product Development',\n",
              "       'Computer Vision', 'Health Services Industry',\n",
              "       'Certification Test', 'Identity Management', 'Shopping',\n",
              "       'Utilities', 'Career Planning', 'Market Research',\n",
              "       'Fantasy Sports', 'Engineering Firms', 'Designers', 'Charity',\n",
              "       'Farming', 'Mobile Games', 'Collectibles', 'Tea', 'Systems',\n",
              "       'Online Video Advertising', 'PaaS', 'Baby Accessories',\n",
              "       'Digital Rights Management', 'Image Recognition', 'Angels',\n",
              "       'Natural Gas Uses', 'Electric Vehicles', 'Predictive Analytics',\n",
              "       'Natural Language Processing', 'Robotics', 'Travel & Tourism',\n",
              "       'Console Gaming', 'IaaS', 'Optimization', 'Staffing Firms',\n",
              "       'Graphics', 'Online Gaming', 'Storage', 'Lighting',\n",
              "       'Intelligent Systems', 'Risk Management', 'Lead Generation',\n",
              "       'Families', 'Lifestyle', 'Content Discovery',\n",
              "       'Intellectual Asset Management', 'Enterprise 2.0',\n",
              "       'Data Center Automation', 'Call Center Automation', 'Linux',\n",
              "       'SexTech', 'Non Profit', 'Customer Support Tools', 'Contests',\n",
              "       'Browser Extensions', 'Data Center Infrastructure',\n",
              "       'IT and Cybersecurity', 'Language Learning', 'Gamification',\n",
              "       'Sporting Goods', 'Concerts', 'Match-Making', 'Civil Engineers',\n",
              "       'Online Education', 'Mobile Health', 'Online Reservations',\n",
              "       'Privacy', 'Game Mechanics', 'Adaptive Equipment', 'Video Games',\n",
              "       'Web Development', 'Enterprise Application', 'Freemium',\n",
              "       'Group SMS', 'Elder Care', 'Dietary Supplements', 'Mobile Devices',\n",
              "       'Textiles', 'Plumbers', 'Web Design', 'Supply Chain Management',\n",
              "       'Building Products', 'Heavy Industry', 'China Internet',\n",
              "       'B2B Express Delivery', 'Corporate Wellness', 'Interior Design',\n",
              "       'Displays', 'Gas', 'Semiconductor Manufacturing Equipment',\n",
              "       'Clean Technology IT', 'Synchronization', 'Senior Citizens',\n",
              "       'General Public Worldwide', 'Entrepreneur', 'Demographies',\n",
              "       'FinTech', 'Racing', 'Mobile Shopping', 'Guides',\n",
              "       'Data Visualization', 'Specialty Retail', 'Mobile Analytics',\n",
              "       'Specialty Chemicals', 'Film Production',\n",
              "       'Human Computer Interaction', 'Recycling', 'Government Innovation',\n",
              "       'Biofuels', 'SNS', 'Celebrity', 'Stock Exchanges',\n",
              "       'Advanced Materials', 'Oil', 'Television', 'Polling', 'Eyewear',\n",
              "       'RFID', 'Outdoors', 'Religion', 'Peer-to-Peer', 'Limousines',\n",
              "       'Price Comparison', 'Shipping', 'Biotechnology and Semiconductor',\n",
              "       'Brewing', 'Mobile Enterprise', 'Resorts', 'Portals',\n",
              "       'Adventure Travel', 'Training', 'Social Bookmarking',\n",
              "       'Web Browsers', 'Mobile Software Tools', 'Home Renovation',\n",
              "       'Debt Collecting', 'Indoor Positioning', 'Video on Demand',\n",
              "       'Geospatial', 'Video Conferencing', 'Craft Beer', 'Product Design',\n",
              "       'Business Information Systems', 'Mobile Payments',\n",
              "       'Rapidly Expanding', 'High Tech', 'Theatre', 'Web Tools', 'Kids',\n",
              "       'Online Dating', 'Cloud-Based Music', 'Edutainment',\n",
              "       'Mens Specific', 'High School Students', 'High Schools',\n",
              "       'Advertising Networks', 'Material Science', 'Social CRM',\n",
              "       'Governance', 'Lotteries', 'Green Consumer Goods',\n",
              "       'In-Flight Entertainment', 'M2M', 'Retail Technology', 'Trading',\n",
              "       'Business Travelers', 'Face Recognition', 'Musical Instruments',\n",
              "       'Energy IT', 'Skill Assessment', 'Custom Retail', 'Translation',\n",
              "       'Genetic Testing', 'Space Travel', 'Fruit', 'Tourism',\n",
              "       'Disruptive Models', 'Printing', 'P2P Money Transfer', 'Maps',\n",
              "       'College Recruiting', 'Fertility', 'Interest Graph',\n",
              "       'Product Search', 'Baby Safety', 'Online Identity',\n",
              "       'Photo Editing', 'Pre Seed', 'Local Commerce', 'Nutrition',\n",
              "       'Physicians', 'Social Fundraising', 'Senior Health',\n",
              "       'BPO Services', 'Procurement', 'QR Codes', 'iOS', 'Solar',\n",
              "       'Air Pollution Control', 'Enterprise Resource Planning',\n",
              "       'Presentations', 'Personal Finance', 'Commercial Solar',\n",
              "       'Loyalty Programs', 'Search Marketing', 'Mobile Advertising',\n",
              "       'Incentives', 'Fleet Management', 'Local Based Services',\n",
              "       'Independent Pharmacies', 'Social Games', 'Cosmetic Surgery',\n",
              "       'GreenTech', 'Mobile Infrastructure', 'Natural Resources',\n",
              "       'Retirement', 'Professional Networking', 'Soccer',\n",
              "       'Social Media Marketing', 'Early-Stage Technology',\n",
              "       'Enterprise Purchasing', 'mHealth', 'Financial Exchanges',\n",
              "       'Virtual Workforces', 'Shared Services', 'Reputation',\n",
              "       'Promotional', 'Young Adults', 'Independent Music Labels',\n",
              "       'MicroBlogging', 'Water Purification', 'Music Venues', 'Taxis',\n",
              "       'Consumer Behavior', 'Social Buying', 'Social + Mobile + Local',\n",
              "       'Gift Exchange', 'Ride Sharing', 'Humanitarian', 'Neuroscience',\n",
              "       'Mechanical Solutions', 'User Interface', 'Watch', 'Surveys',\n",
              "       'Music Services', 'Service Industries', 'Tracking',\n",
              "       'Gift Registries', 'Task Management'], dtype=object)"
            ]
          },
          "metadata": {
            "tags": []
          },
          "execution_count": 437
        }
      ]
    },
    {
      "cell_type": "markdown",
      "metadata": {
        "id": "O6LH3W8fQivM",
        "colab_type": "text"
      },
      "source": [
        "##using mapping file to merge the data"
      ]
    },
    {
      "cell_type": "code",
      "metadata": {
        "id": "2bonXnwRHrIq",
        "colab_type": "code",
        "colab": {}
      },
      "source": [
        "\n",
        "#Cleaning the mapping file to be able to merge it.\n",
        "\n",
        "#droping blank column as it is not muc in use in the long run\n",
        "mapping_df=mapping_df.drop('Blanks',axis=1)\n",
        "\n",
        "#now defing a funtion that will provid us main_sector by the category list in mapping file.\n",
        "columnList=mapping_df.columns[1:]\n",
        "\n",
        "# def getMainSector(x):\n",
        "#   x=np.array(x)\n",
        "#   sect=np.array(columnList)\n",
        "#   return sect[int(np.where(x==1)[0])]\n",
        "\n",
        "# mapping_df['main_sector']=mapping_df[columnList].apply(lambda x:getMainSector(x),axis=1)\n",
        "# mapping_df=mapping_df.drop(columns=columnList)\n",
        "\n",
        "#there is another approch with melt functionas below in pandas that i am aware of but building a custom function was easy\n",
        "mapping_df=pd.melt(mapping_df,id_vars=['category_list'],value_vars=mapping_df.columns[1:],var_name='main_sector')\n",
        "mapping_df = mapping_df[~(mapping_df.value == 0)]\n",
        "mapping_df = mapping_df.drop(['value'],axis=1)"
      ],
      "execution_count": 438,
      "outputs": []
    },
    {
      "cell_type": "code",
      "metadata": {
        "id": "pbWT6gGwUdym",
        "colab_type": "code",
        "colab": {
          "base_uri": "https://localhost:8080/",
          "height": 0
        },
        "outputId": "5dff3cf0-ea9c-4ab2-cc60-d9a7b9eb6f57"
      },
      "source": [
        "mapping_df.head(5)\n",
        "mapping_df.main_sector.value_counts()"
      ],
      "execution_count": 439,
      "outputs": [
        {
          "output_type": "execute_result",
          "data": {
            "text/plain": [
              "Others                                     195\n",
              "Social, Finance, Analytics, Advertising    153\n",
              "Entertainment                               89\n",
              "News, Search and Messaging                  72\n",
              "Health                                      63\n",
              "Cleantech / Semiconductors                  53\n",
              "Manufacturing                               40\n",
              "Automotive & Sports                         22\n",
              "Name: main_sector, dtype: int64"
            ]
          },
          "metadata": {
            "tags": []
          },
          "execution_count": 439
        }
      ]
    },
    {
      "cell_type": "code",
      "metadata": {
        "id": "wGTCOqOUzjeO",
        "colab_type": "code",
        "colab": {
          "base_uri": "https://localhost:8080/",
          "height": 0
        },
        "outputId": "57810994-4561-47f9-e54d-0cc488a0ec1b"
      },
      "source": [
        "#drop the uneccessary columns\n",
        "mapping_df=mapping_df.rename(columns={'category_list':'primary_sector'})\n",
        "mapping_df.head(5)"
      ],
      "execution_count": 440,
      "outputs": [
        {
          "output_type": "execute_result",
          "data": {
            "text/html": [
              "<div>\n",
              "<style scoped>\n",
              "    .dataframe tbody tr th:only-of-type {\n",
              "        vertical-align: middle;\n",
              "    }\n",
              "\n",
              "    .dataframe tbody tr th {\n",
              "        vertical-align: top;\n",
              "    }\n",
              "\n",
              "    .dataframe thead th {\n",
              "        text-align: right;\n",
              "    }\n",
              "</style>\n",
              "<table border=\"1\" class=\"dataframe\">\n",
              "  <thead>\n",
              "    <tr style=\"text-align: right;\">\n",
              "      <th></th>\n",
              "      <th>primary_sector</th>\n",
              "      <th>main_sector</th>\n",
              "    </tr>\n",
              "  </thead>\n",
              "  <tbody>\n",
              "    <tr>\n",
              "      <th>7</th>\n",
              "      <td>Adventure Travel</td>\n",
              "      <td>Automotive &amp; Sports</td>\n",
              "    </tr>\n",
              "    <tr>\n",
              "      <th>13</th>\n",
              "      <td>Aerospace</td>\n",
              "      <td>Automotive &amp; Sports</td>\n",
              "    </tr>\n",
              "    <tr>\n",
              "      <th>44</th>\n",
              "      <td>Auto</td>\n",
              "      <td>Automotive &amp; Sports</td>\n",
              "    </tr>\n",
              "    <tr>\n",
              "      <th>45</th>\n",
              "      <td>Automated Kiosk</td>\n",
              "      <td>Automotive &amp; Sports</td>\n",
              "    </tr>\n",
              "    <tr>\n",
              "      <th>46</th>\n",
              "      <td>Automotive</td>\n",
              "      <td>Automotive &amp; Sports</td>\n",
              "    </tr>\n",
              "  </tbody>\n",
              "</table>\n",
              "</div>"
            ],
            "text/plain": [
              "      primary_sector          main_sector\n",
              "7   Adventure Travel  Automotive & Sports\n",
              "13         Aerospace  Automotive & Sports\n",
              "44              Auto  Automotive & Sports\n",
              "45   Automated Kiosk  Automotive & Sports\n",
              "46        Automotive  Automotive & Sports"
            ]
          },
          "metadata": {
            "tags": []
          },
          "execution_count": 440
        }
      ]
    },
    {
      "cell_type": "markdown",
      "metadata": {
        "id": "3RZVNWSXgVg7",
        "colab_type": "text"
      },
      "source": [
        "Now that we have a proper column that can be mapped we can begin with merging"
      ]
    },
    {
      "cell_type": "code",
      "metadata": {
        "id": "1UcycpJf0Jnj",
        "colab_type": "code",
        "colab": {
          "base_uri": "https://localhost:8080/",
          "height": 0
        },
        "outputId": "98d22473-f00d-4507-b2db-d90d5e7dd71b"
      },
      "source": [
        "# #standardize the columns\n",
        "master_frame.primary_sector=master_frame.primary_sector.apply(lambda x: x.lower())\n",
        "mapping_df.primary_sector=mapping_df.primary_sector.apply(lambda x: x.lower())\n",
        "\n",
        "#begin with merge\n",
        "master_frame=pd.merge(master_frame,mapping_df,on='primary_sector')\n",
        "\n",
        "print(master_frame.info())\n",
        "#print(master_frame[master_frame.category_list.str.len()>50].head(5))\n",
        "master_frame.head()"
      ],
      "execution_count": 441,
      "outputs": [
        {
          "output_type": "stream",
          "text": [
            "<class 'pandas.core.frame.DataFrame'>\n",
            "Int64Index: 48575 entries, 0 to 48574\n",
            "Data columns (total 11 columns):\n",
            " #   Column                   Non-Null Count  Dtype  \n",
            "---  ------                   --------------  -----  \n",
            " 0   permalink                48575 non-null  object \n",
            " 1   name                     48575 non-null  object \n",
            " 2   category_list            48575 non-null  object \n",
            " 3   status                   48575 non-null  object \n",
            " 4   country_code             48575 non-null  object \n",
            " 5   funding_round_permalink  48575 non-null  object \n",
            " 6   funding_round_type       48575 non-null  object \n",
            " 7   funded_at                48575 non-null  object \n",
            " 8   raised_amount_usd        48575 non-null  float64\n",
            " 9   primary_sector           48575 non-null  object \n",
            " 10  main_sector              48575 non-null  object \n",
            "dtypes: float64(1), object(10)\n",
            "memory usage: 4.4+ MB\n",
            "None\n"
          ],
          "name": "stdout"
        },
        {
          "output_type": "execute_result",
          "data": {
            "text/html": [
              "<div>\n",
              "<style scoped>\n",
              "    .dataframe tbody tr th:only-of-type {\n",
              "        vertical-align: middle;\n",
              "    }\n",
              "\n",
              "    .dataframe tbody tr th {\n",
              "        vertical-align: top;\n",
              "    }\n",
              "\n",
              "    .dataframe thead th {\n",
              "        text-align: right;\n",
              "    }\n",
              "</style>\n",
              "<table border=\"1\" class=\"dataframe\">\n",
              "  <thead>\n",
              "    <tr style=\"text-align: right;\">\n",
              "      <th></th>\n",
              "      <th>permalink</th>\n",
              "      <th>name</th>\n",
              "      <th>category_list</th>\n",
              "      <th>status</th>\n",
              "      <th>country_code</th>\n",
              "      <th>funding_round_permalink</th>\n",
              "      <th>funding_round_type</th>\n",
              "      <th>funded_at</th>\n",
              "      <th>raised_amount_usd</th>\n",
              "      <th>primary_sector</th>\n",
              "      <th>main_sector</th>\n",
              "    </tr>\n",
              "  </thead>\n",
              "  <tbody>\n",
              "    <tr>\n",
              "      <th>0</th>\n",
              "      <td>/organization/-fame</td>\n",
              "      <td>#fame</td>\n",
              "      <td>Media</td>\n",
              "      <td>operating</td>\n",
              "      <td>IND</td>\n",
              "      <td>/funding-round/9a01d05418af9f794eebff7ace91f638</td>\n",
              "      <td>venture</td>\n",
              "      <td>05-01-2015</td>\n",
              "      <td>10000000.00</td>\n",
              "      <td>media</td>\n",
              "      <td>Entertainment</td>\n",
              "    </tr>\n",
              "    <tr>\n",
              "      <th>1</th>\n",
              "      <td>/organization/90min</td>\n",
              "      <td>90min</td>\n",
              "      <td>Media|News|Publishing|Soccer|Sports</td>\n",
              "      <td>operating</td>\n",
              "      <td>GBR</td>\n",
              "      <td>/funding-round/21a2cbf6f2fb2a1c2a61e04bf930dfe6</td>\n",
              "      <td>venture</td>\n",
              "      <td>06-10-2015</td>\n",
              "      <td>15000000.00</td>\n",
              "      <td>media</td>\n",
              "      <td>Entertainment</td>\n",
              "    </tr>\n",
              "    <tr>\n",
              "      <th>2</th>\n",
              "      <td>/organization/90min</td>\n",
              "      <td>90min</td>\n",
              "      <td>Media|News|Publishing|Soccer|Sports</td>\n",
              "      <td>operating</td>\n",
              "      <td>GBR</td>\n",
              "      <td>/funding-round/bd626ed022f5c66574b1afe234f3c90d</td>\n",
              "      <td>venture</td>\n",
              "      <td>07-05-2013</td>\n",
              "      <td>5800000.00</td>\n",
              "      <td>media</td>\n",
              "      <td>Entertainment</td>\n",
              "    </tr>\n",
              "    <tr>\n",
              "      <th>3</th>\n",
              "      <td>/organization/90min</td>\n",
              "      <td>90min</td>\n",
              "      <td>Media|News|Publishing|Soccer|Sports</td>\n",
              "      <td>operating</td>\n",
              "      <td>GBR</td>\n",
              "      <td>/funding-round/fd4b15e8c97ee2ffc0acccdbe1a98810</td>\n",
              "      <td>venture</td>\n",
              "      <td>26-03-2014</td>\n",
              "      <td>18000000.00</td>\n",
              "      <td>media</td>\n",
              "      <td>Entertainment</td>\n",
              "    </tr>\n",
              "    <tr>\n",
              "      <th>4</th>\n",
              "      <td>/organization/all-def-digital</td>\n",
              "      <td>All Def Digital</td>\n",
              "      <td>Media</td>\n",
              "      <td>operating</td>\n",
              "      <td>USA</td>\n",
              "      <td>/funding-round/452a2342fe720285c3b92e9bd927d9ba</td>\n",
              "      <td>venture</td>\n",
              "      <td>06-08-2014</td>\n",
              "      <td>5000000.00</td>\n",
              "      <td>media</td>\n",
              "      <td>Entertainment</td>\n",
              "    </tr>\n",
              "  </tbody>\n",
              "</table>\n",
              "</div>"
            ],
            "text/plain": [
              "                       permalink             name  ... primary_sector    main_sector\n",
              "0            /organization/-fame            #fame  ...          media  Entertainment\n",
              "1            /organization/90min            90min  ...          media  Entertainment\n",
              "2            /organization/90min            90min  ...          media  Entertainment\n",
              "3            /organization/90min            90min  ...          media  Entertainment\n",
              "4  /organization/all-def-digital  All Def Digital  ...          media  Entertainment\n",
              "\n",
              "[5 rows x 11 columns]"
            ]
          },
          "metadata": {
            "tags": []
          },
          "execution_count": 441
        }
      ]
    },
    {
      "cell_type": "markdown",
      "metadata": {
        "id": "pHDM9frK73v8",
        "colab_type": "text"
      },
      "source": [
        "#Checkpoint 5 ( Sector Analysis 2 )"
      ]
    },
    {
      "cell_type": "markdown",
      "metadata": {
        "id": "VGOuiyFP8BCq",
        "colab_type": "text"
      },
      "source": [
        "Before proceeding with sector analysis we will clean data as below"
      ]
    },
    {
      "cell_type": "code",
      "metadata": {
        "id": "TOnL8HQL8Laj",
        "colab_type": "code",
        "colab": {
          "base_uri": "https://localhost:8080/",
          "height": 0
        },
        "outputId": "87f9aa36-626f-45e5-d463-dc92b84d9033"
      },
      "source": [
        "\n",
        "# master dataframe should only have funding_round_type as venture this was already handled in the previouse stage\n",
        "\n",
        "before=len(master_frame.index)\n",
        "\n",
        "# master datframe should only have top 3 most invested countries\n",
        "\n",
        "master_frame_filterd=master_frame[master_frame.country_code.isin(top3.index)]\n",
        "\n",
        "# master datafarme range of funding preferred by Spark Funds is 5 to 15 million USD. \n",
        "\n",
        "master_frame_filterd=master_frame_filterd[(master_frame_filterd.raised_amount_usd>=5000000) &(master_frame_filterd.raised_amount_usd<=15000000)]\n",
        "\n",
        "after=len(master_frame_filterd.index)\n",
        "res=before-after\n",
        "print('before filteration row count was ',before,' after filteration row count is ',after,' total loss ',res,' rows')\n",
        "\n",
        "#rough code\n",
        "#master_frame_filterd.groupby(['country_code', 'primary_sector']).raised_amount_usd.agg({'raised_amount_usd':'sum'}).plot.bar()"
      ],
      "execution_count": 442,
      "outputs": [
        {
          "output_type": "stream",
          "text": [
            "before filteration row count was  48575  after filteration row count is  12025  total loss  36550  rows\n"
          ],
          "name": "stdout"
        }
      ]
    },
    {
      "cell_type": "code",
      "metadata": {
        "id": "7c-M_WARKE-9",
        "colab_type": "code",
        "colab": {
          "base_uri": "https://localhost:8080/",
          "height": 0
        },
        "outputId": "2c4c50fd-3603-4eac-8131-a5018fd93f10"
      },
      "source": [
        "#this graph is just to get an idea about investments in main sector.\n",
        "sub=pd.pivot_table(master_frame_filterd,columns='main_sector',values='raised_amount_usd',aggfunc='sum').plot.barh(figsize=(20,7))\n",
        "plt.show()\n"
      ],
      "execution_count": 443,
      "outputs": [
        {
          "output_type": "display_data",
          "data": {
            "image/png": "[encoded data removed]",
            "text/plain": [
              "<Figure size 1440x504 with 1 Axes>"
            ]
          },
          "metadata": {
            "tags": [],
            "needs_background": "light"
          }
        }
      ]
    },
    {
      "cell_type": "markdown",
      "metadata": {
        "id": "BrRjp8XtNaNR",
        "colab_type": "text"
      },
      "source": [
        "Now that we are ready with the data to be analysed further. we will split data into 3 dataframe d1,d2,d3 to analyse each top contries individually"
      ]
    },
    {
      "cell_type": "code",
      "metadata": {
        "id": "YOa7Is9ONwoX",
        "colab_type": "code",
        "colab": {
          "base_uri": "https://localhost:8080/",
          "height": 0
        },
        "outputId": "58b943ae-49e0-4066-c6f2-3747525e6c47"
      },
      "source": [
        "\n",
        "# splitting the data\n",
        "d1 = master_frame_filterd[master_frame_filterd.country_code==top3.index[0]]\n",
        "d1 = d1.assign(count_of_invest =d1.groupby('main_sector')['main_sector'].transform('count'))\n",
        "d1 = d1.assign(sum_of_invest =d1.groupby('main_sector')['raised_amount_usd'].transform('sum'))\n",
        "d2 = master_frame_filterd[master_frame_filterd.country_code==top3.index[1]]\n",
        "d2 = d2.assign(count_of_invest =d2.groupby('main_sector')['main_sector'].transform('count'))\n",
        "d3 = d2.assign(sum_of_invest =d2.groupby('main_sector')['raised_amount_usd'].transform('sum'))\n",
        "d3 = master_frame_filterd[master_frame_filterd.country_code==top3.index[2]]\n",
        "d3 = d3.assign(count_of_invest =d3.groupby('main_sector')['main_sector'].transform('count'))\n",
        "d3 = d3.assign(sum_of_invest =d3.groupby('main_sector')['raised_amount_usd'].transform('sum'))\n",
        "\n",
        "#just to verify that the result is correct\n",
        "d1[['main_sector','count_of_invest','sum_of_invest']].tail(10)"
      ],
      "execution_count": 444,
      "outputs": [
        {
          "output_type": "execute_result",
          "data": {
            "text/html": [
              "<div>\n",
              "<style scoped>\n",
              "    .dataframe tbody tr th:only-of-type {\n",
              "        vertical-align: middle;\n",
              "    }\n",
              "\n",
              "    .dataframe tbody tr th {\n",
              "        vertical-align: top;\n",
              "    }\n",
              "\n",
              "    .dataframe thead th {\n",
              "        text-align: right;\n",
              "    }\n",
              "</style>\n",
              "<table border=\"1\" class=\"dataframe\">\n",
              "  <thead>\n",
              "    <tr style=\"text-align: right;\">\n",
              "      <th></th>\n",
              "      <th>main_sector</th>\n",
              "      <th>count_of_invest</th>\n",
              "      <th>sum_of_invest</th>\n",
              "    </tr>\n",
              "  </thead>\n",
              "  <tbody>\n",
              "    <tr>\n",
              "      <th>48515</th>\n",
              "      <td>Others</td>\n",
              "      <td>2923</td>\n",
              "      <td>26089280296.00</td>\n",
              "    </tr>\n",
              "    <tr>\n",
              "      <th>48517</th>\n",
              "      <td>Health</td>\n",
              "      <td>908</td>\n",
              "      <td>8200859357.00</td>\n",
              "    </tr>\n",
              "    <tr>\n",
              "      <th>48518</th>\n",
              "      <td>Health</td>\n",
              "      <td>908</td>\n",
              "      <td>8200859357.00</td>\n",
              "    </tr>\n",
              "    <tr>\n",
              "      <th>48520</th>\n",
              "      <td>Health</td>\n",
              "      <td>908</td>\n",
              "      <td>8200859357.00</td>\n",
              "    </tr>\n",
              "    <tr>\n",
              "      <th>48546</th>\n",
              "      <td>Social, Finance, Analytics, Advertising</td>\n",
              "      <td>1912</td>\n",
              "      <td>16680695048.00</td>\n",
              "    </tr>\n",
              "    <tr>\n",
              "      <th>48547</th>\n",
              "      <td>Social, Finance, Analytics, Advertising</td>\n",
              "      <td>1912</td>\n",
              "      <td>16680695048.00</td>\n",
              "    </tr>\n",
              "    <tr>\n",
              "      <th>48550</th>\n",
              "      <td>Social, Finance, Analytics, Advertising</td>\n",
              "      <td>1912</td>\n",
              "      <td>16680695048.00</td>\n",
              "    </tr>\n",
              "    <tr>\n",
              "      <th>48561</th>\n",
              "      <td>Others</td>\n",
              "      <td>2923</td>\n",
              "      <td>26089280296.00</td>\n",
              "    </tr>\n",
              "    <tr>\n",
              "      <th>48565</th>\n",
              "      <td>Others</td>\n",
              "      <td>2923</td>\n",
              "      <td>26089280296.00</td>\n",
              "    </tr>\n",
              "    <tr>\n",
              "      <th>48569</th>\n",
              "      <td>Others</td>\n",
              "      <td>2923</td>\n",
              "      <td>26089280296.00</td>\n",
              "    </tr>\n",
              "  </tbody>\n",
              "</table>\n",
              "</div>"
            ],
            "text/plain": [
              "                                   main_sector  count_of_invest  sum_of_invest\n",
              "48515                                   Others             2923 26089280296.00\n",
              "48517                                   Health              908  8200859357.00\n",
              "48518                                   Health              908  8200859357.00\n",
              "48520                                   Health              908  8200859357.00\n",
              "48546  Social, Finance, Analytics, Advertising             1912 16680695048.00\n",
              "48547  Social, Finance, Analytics, Advertising             1912 16680695048.00\n",
              "48550  Social, Finance, Analytics, Advertising             1912 16680695048.00\n",
              "48561                                   Others             2923 26089280296.00\n",
              "48565                                   Others             2923 26089280296.00\n",
              "48569                                   Others             2923 26089280296.00"
            ]
          },
          "metadata": {
            "tags": []
          },
          "execution_count": 444
        }
      ]
    },
    {
      "cell_type": "markdown",
      "metadata": {
        "id": "4FsvWmz9Op4m",
        "colab_type": "text"
      },
      "source": [
        "##### Table 5.1 sl .no 1 total number of investment"
      ]
    },
    {
      "cell_type": "code",
      "metadata": {
        "id": "gprH5EBqOKhn",
        "colab_type": "code",
        "colab": {
          "base_uri": "https://localhost:8080/",
          "height": 0
        },
        "outputId": "8f9601f8-4c69-43af-816b-7bd6e7fedffc"
      },
      "source": [
        "print('total number of investment in d1 ({0}) are '.format(top3.index[0]),len(d1.index))\n",
        "print('total number of investment in d2 ({0}) are '.format(top3.index[1]),len(d2.index))\n",
        "print('total number of investment in d3 ({0}) are '.format(top3.index[2]),len(d3.index))"
      ],
      "execution_count": 445,
      "outputs": [
        {
          "output_type": "stream",
          "text": [
            "total number of investment in d1 (USA) are  11149\n",
            "total number of investment in d2 (GBR) are  577\n",
            "total number of investment in d3 (IND) are  299\n"
          ],
          "name": "stdout"
        }
      ]
    },
    {
      "cell_type": "markdown",
      "metadata": {
        "id": "niCl7xQHRzNm",
        "colab_type": "text"
      },
      "source": [
        "##### Table 5.1 sl .no 2 total amount of investment"
      ]
    },
    {
      "cell_type": "code",
      "metadata": {
        "id": "LaAO1fzeR3h-",
        "colab_type": "code",
        "colab": {
          "base_uri": "https://localhost:8080/",
          "height": 0
        },
        "outputId": "776f0e9f-661b-40df-871e-fecb8b0d90a6"
      },
      "source": [
        "print('total amount of investment in d1 ({0}) are '.format(top3.index[0]),d1.raised_amount_usd.sum())\n",
        "print('total amount of investment in d2 ({0}) are '.format(top3.index[1]),d2.raised_amount_usd.sum())\n",
        "print('total amount of investment in d3 ({0}) are '.format(top3.index[2]),d3.raised_amount_usd.sum())"
      ],
      "execution_count": 446,
      "outputs": [
        {
          "output_type": "stream",
          "text": [
            "total amount of investment in d1 (USA) are  99661524549.0\n",
            "total amount of investment in d2 (GBR) are  5028704358.0\n",
            "total amount of investment in d3 (IND) are  2683537552.0\n"
          ],
          "name": "stdout"
        }
      ]
    },
    {
      "cell_type": "markdown",
      "metadata": {
        "id": "VaRrYb6vUdk5",
        "colab_type": "text"
      },
      "source": [
        "##### Table 5.1 sl .no 3 ,4 and 5 Top Sector Name"
      ]
    },
    {
      "cell_type": "code",
      "metadata": {
        "id": "dAfYRa5nhFmL",
        "colab_type": "code",
        "colab": {
          "base_uri": "https://localhost:8080/",
          "height": 0
        },
        "outputId": "068bd0ef-35df-49a0-c4c2-b8b3fad3d618"
      },
      "source": [
        "print('\\n D1 ({0}) \\n'.format(top3.index[0]),d1.main_sector.value_counts().head(3))\n",
        "print('\\n D2 ({0}) \\n'.format(top3.index[1]),d2.main_sector.value_counts().head(3))\n",
        "print('\\n D3 ({0}) \\n'.format(top3.index[2]),d3.main_sector.value_counts().head(3))\n",
        "\n",
        "#rough code\n",
        "#pd.pivot_table(d1,values='main_sector',columns,aggfunc=len)\n",
        "#d1.to_csv('test.csv')"
      ],
      "execution_count": 447,
      "outputs": [
        {
          "output_type": "stream",
          "text": [
            "\n",
            " D1 (USA) \n",
            " Others                                     2923\n",
            "Cleantech / Semiconductors                 2297\n",
            "Social, Finance, Analytics, Advertising    1912\n",
            "Name: main_sector, dtype: int64\n",
            "\n",
            " D2 (GBR) \n",
            " Others                                     143\n",
            "Cleantech / Semiconductors                 127\n",
            "Social, Finance, Analytics, Advertising     98\n",
            "Name: main_sector, dtype: int64\n",
            "\n",
            " D3 (IND) \n",
            " Others                        109\n",
            "News, Search and Messaging     52\n",
            "Entertainment                  33\n",
            "Name: main_sector, dtype: int64\n"
          ],
          "name": "stdout"
        }
      ]
    },
    {
      "cell_type": "markdown",
      "metadata": {
        "id": "Esk2pQ-thX07",
        "colab_type": "text"
      },
      "source": [
        "##### Table 5.1 sl .no 6 number of Investment in top Sector Name"
      ]
    },
    {
      "cell_type": "code",
      "metadata": {
        "id": "T9p3d1seheJs",
        "colab_type": "code",
        "colab": {
          "base_uri": "https://localhost:8080/",
          "height": 0
        },
        "outputId": "07137970-a078-4f82-8f98-258416eaf2d2"
      },
      "source": [
        "print('total number of investment in d1 ({0}) are '.format(top3.index[0]),len(d1[d1.main_sector=='Others'].index))\n",
        "print('total number of investment in d2 ({0}) are '.format(top3.index[1]),len(d2[d2.main_sector=='Others'].index))\n",
        "print('total number of investment in d3 ({0}) are '.format(top3.index[2]),len(d3[d3.main_sector=='Others'].index))"
      ],
      "execution_count": 448,
      "outputs": [
        {
          "output_type": "stream",
          "text": [
            "total number of investment in d1 (USA) are  2923\n",
            "total number of investment in d2 (GBR) are  143\n",
            "total number of investment in d3 (IND) are  109\n"
          ],
          "name": "stdout"
        }
      ]
    },
    {
      "cell_type": "markdown",
      "metadata": {
        "id": "L3aOAsXBQO3y",
        "colab_type": "text"
      },
      "source": [
        "##### Table 5.1 sl .no 7 number of Investment in second top Sector Name"
      ]
    },
    {
      "cell_type": "code",
      "metadata": {
        "id": "eAyf2BbjQV3w",
        "colab_type": "code",
        "colab": {
          "base_uri": "https://localhost:8080/",
          "height": 0
        },
        "outputId": "c2428e00-99fb-4b71-9d32-7effedbf889c"
      },
      "source": [
        "print('total number of investment in d1 ({0}) are '.format(top3.index[0]),len(d1[d1.main_sector=='Cleantech / Semiconductors'].index))\n",
        "print('total number of investment in d2 ({0}) are '.format(top3.index[1]),len(d2[d2.main_sector=='Cleantech / Semiconductors'].index))\n",
        "print('total number of investment in d3 ({0}) are '.format(top3.index[2]),len(d3[d3.main_sector=='News, Search and Messaging'].index))"
      ],
      "execution_count": 449,
      "outputs": [
        {
          "output_type": "stream",
          "text": [
            "total number of investment in d1 (USA) are  2297\n",
            "total number of investment in d2 (GBR) are  127\n",
            "total number of investment in d3 (IND) are  52\n"
          ],
          "name": "stdout"
        }
      ]
    },
    {
      "cell_type": "markdown",
      "metadata": {
        "id": "od_SFtP0QziI",
        "colab_type": "text"
      },
      "source": [
        "##### Table 5.1 sl .no 8 number of Investment in third top Sector Name"
      ]
    },
    {
      "cell_type": "code",
      "metadata": {
        "id": "yjuCFb-JQ43n",
        "colab_type": "code",
        "colab": {
          "base_uri": "https://localhost:8080/",
          "height": 0
        },
        "outputId": "03ae7b53-3f6f-4f41-bba9-0821081ba87b"
      },
      "source": [
        "print('total number of investment in d1 ({0}) are '.format(top3.index[0]),len(d1[d1.main_sector=='Social, Finance, Analytics, Advertising'].index))\n",
        "print('total number of investment in d2 ({0}) are '.format(top3.index[1]),len(d2[d2.main_sector=='Social, Finance, Analytics, Advertising'].index))\n",
        "print('total number of investment in d3 ({0}) are '.format(top3.index[2]),len(d3[d3.main_sector=='Entertainment'].index))"
      ],
      "execution_count": 450,
      "outputs": [
        {
          "output_type": "stream",
          "text": [
            "total number of investment in d1 (USA) are  1912\n",
            "total number of investment in d2 (GBR) are  98\n",
            "total number of investment in d3 (IND) are  33\n"
          ],
          "name": "stdout"
        }
      ]
    },
    {
      "cell_type": "markdown",
      "metadata": {
        "id": "dORu2XwvjsB-",
        "colab_type": "text"
      },
      "source": [
        "Which companies recieved the hieghest investment as per the leading sectors"
      ]
    },
    {
      "cell_type": "code",
      "metadata": {
        "id": "QQV4xKQ78YD1",
        "colab_type": "code",
        "colab": {
          "base_uri": "https://localhost:8080/",
          "height": 0
        },
        "outputId": "792a634b-3caa-4a14-ebe0-756ae36d56da"
      },
      "source": [
        "print(\"Companies which recieved heighest investment By Top sector\")\n",
        "print(d1[d1.main_sector=='Others'].groupby('permalink').agg({'raised_amount_usd': \"sum\"}).sort_values('raised_amount_usd', ascending = False).head(1))\n",
        "print(d2[d2.main_sector=='Others'].groupby('permalink').agg({'raised_amount_usd': \"sum\"}).sort_values('raised_amount_usd', ascending = False).head(1))\n",
        "print(d3[d3.main_sector=='Others'].groupby('permalink').agg({'raised_amount_usd': \"sum\"}).sort_values('raised_amount_usd', ascending = False).head(1))"
      ],
      "execution_count": 451,
      "outputs": [
        {
          "output_type": "stream",
          "text": [
            "Companies which recieved heighest investment By Top sector\n",
            "                           raised_amount_usd\n",
            "permalink                                   \n",
            "/organization/virtustream        64300000.00\n",
            "                              raised_amount_usd\n",
            "permalink                                      \n",
            "/organization/electric-cloud        37000000.00\n",
            "                            raised_amount_usd\n",
            "permalink                                    \n",
            "/organization/firstcry-com        39000000.00\n"
          ],
          "name": "stdout"
        }
      ]
    },
    {
      "cell_type": "code",
      "metadata": {
        "id": "XbJ5n70VWbZh",
        "colab_type": "code",
        "colab": {
          "base_uri": "https://localhost:8080/",
          "height": 0
        },
        "outputId": "f1a2b3c6-2c2b-41f0-d1ed-d14059de89f2"
      },
      "source": [
        "\n",
        "print(\"Companies which recieved heighest investment By Second sector\")\n",
        "print(d1[d1.main_sector=='Cleantech / Semiconductors'].groupby('permalink').agg({'raised_amount_usd': \"sum\"}).sort_values('raised_amount_usd', ascending = False).head(1))\n",
        "print(d2[d2.main_sector=='Cleantech / Semiconductors'].groupby('permalink').agg({'raised_amount_usd': \"sum\"}).sort_values('raised_amount_usd', ascending = False).head(1))\n",
        "print(d3[d3.main_sector=='News, Search and Messaging'].groupby('permalink').agg({'raised_amount_usd': \"sum\"}).sort_values('raised_amount_usd', ascending = False).head(1))"
      ],
      "execution_count": 452,
      "outputs": [
        {
          "output_type": "stream",
          "text": [
            "Companies which recieved heighest investment By Second sector\n",
            "                        raised_amount_usd\n",
            "permalink                                \n",
            "/organization/biodesix        75300000.00\n",
            "                           raised_amount_usd\n",
            "permalink                                   \n",
            "/organization/eusa-pharma        35600000.00\n",
            "                                                raised_amount_usd\n",
            "permalink                                                        \n",
            "/organization/gupshup-technology-india-pvt-ltd        33000000.00\n"
          ],
          "name": "stdout"
        }
      ]
    },
    {
      "cell_type": "markdown",
      "metadata": {
        "id": "OHjfSSqER-n6",
        "colab_type": "text"
      },
      "source": [
        "#Checkpoint 6 ( plots )"
      ]
    },
    {
      "cell_type": "markdown",
      "metadata": {
        "id": "JgGcftgDWQrv",
        "colab_type": "text"
      },
      "source": [
        "##### Plot 1. (Global investment in selected four types of round type)"
      ]
    },
    {
      "cell_type": "markdown",
      "metadata": {
        "id": "L94S9mc5WOrv",
        "colab_type": "text"
      },
      "source": [
        "A plot showing the fraction of total investments (globally) in angel, venture, seed, and private equity, and the average amount of investment in each funding type. This chart should make it clear that a certain funding type (FT) is best suited for Spark Funds.\n",
        "\n"
      ]
    },
    {
      "cell_type": "code",
      "metadata": {
        "id": "ZGTUo7rvWp8i",
        "colab_type": "code",
        "colab": {
          "base_uri": "https://localhost:8080/",
          "height": 0
        },
        "outputId": "00aa78f8-8009-4c7c-8e3e-bc44a825139b"
      },
      "source": [
        "# bar plot with default statistic=mean\n",
        "plt.figure(figsize=(10,10))\n",
        "g=sns.barplot(x='funding_round_type', y='raised_amount_usd', data=bkb_master_frame[bkb_master_frame.funding_round_type.isin(fundtypes)])\n",
        "g.set(xlabel='Funding Type', ylabel='Raised Amount   ( 1 Unit = 10M USD)')\n",
        "g.set_title('Funding Type Analysis',fontsize =15)\n",
        "\n",
        "plt.axhline(5000000, color='green')\n",
        "plt.axhline(15000000, color='red')\n",
        "\n",
        "\n",
        "plt.show()"
      ],
      "execution_count": 453,
      "outputs": [
        {
          "output_type": "display_data",
          "data": {
            "image/png": "[encoded data removed]",
            "text/plain": [
              "<Figure size 720x720 with 1 Axes>"
            ]
          },
          "metadata": {
            "tags": [],
            "needs_background": "light"
          }
        }
      ]
    },
    {
      "cell_type": "markdown",
      "metadata": {
        "id": "dReOpYw3cqKa",
        "colab_type": "text"
      },
      "source": [
        "As you can see above the type venture is between 5 to 15 millions which is why we have selected it for analysis"
      ]
    },
    {
      "cell_type": "markdown",
      "metadata": {
        "id": "2LdcVdUhdNBC",
        "colab_type": "text"
      },
      "source": [
        "##### Plot 2. (top 9 countries against the total amount of investments in Venture)"
      ]
    },
    {
      "cell_type": "code",
      "metadata": {
        "id": "W9rZjm4IdXim",
        "colab_type": "code",
        "colab": {
          "base_uri": "https://localhost:8080/",
          "height": 0
        },
        "outputId": "f14491f1-3c94-4e35-8ee6-759aa173c27c"
      },
      "source": [
        "\n",
        "top9['country']=top9.index\n",
        "\n",
        "custom_palette = {}\n",
        "for q in set(top9.country):\n",
        "    if q in top3.index:\n",
        "        custom_palette[q] = 'g'\n",
        "    else:\n",
        "        custom_palette[q] = 'r'\n",
        "\n",
        "\n",
        "\n",
        "# bar plot \n",
        "plt.figure(figsize=(10,10))\n",
        "c=sns.barplot(x='country', y='raised_amount_usd', data=top9, estimator=np.sum, palette=custom_palette)\n",
        "c.set_yscale('log')\n",
        "c.set(xlabel='Countries', ylabel='Raised Amount')\n",
        "c.set_title('Country Analysis',fontsize =18)\n",
        "plt.show()\n",
        "\n",
        "#roungh code\n",
        "# data=bkb_master_frame[(bkb_master_frame.funding_round_type=='venture')&(bkb_master_frame.country_code.isin(top9.index))]\n",
        "# data.groupby(by='country_code',as_index=False).agg({'raised_amount_usd': \"sum\"})"
      ],
      "execution_count": 454,
      "outputs": [
        {
          "output_type": "display_data",
          "data": {
            "image/png": "[encoded data removed]",
            "text/plain": [
              "<Figure size 720x720 with 1 Axes>"
            ]
          },
          "metadata": {
            "tags": [],
            "needs_background": "light"
          }
        }
      ]
    },
    {
      "cell_type": "markdown",
      "metadata": {
        "id": "DndlBRoxlCiY",
        "colab_type": "text"
      },
      "source": [
        "As you can see out of the top 9 countries the top 3 english speaking countries are in green"
      ]
    },
    {
      "cell_type": "markdown",
      "metadata": {
        "id": "lDn8J95clTIl",
        "colab_type": "text"
      },
      "source": [
        "##### Plot 3. (investments in the top 3 sectors of the top 3 countries on one chart)"
      ]
    },
    {
      "cell_type": "code",
      "metadata": {
        "id": "1nH8cRaUlagO",
        "colab_type": "code",
        "colab": {
          "base_uri": "https://localhost:8080/",
          "height": 443
        },
        "outputId": "b8a4d8a4-a38a-42e3-c6ba-599974659eab"
      },
      "source": [
        "p1=d1[d1.main_sector.isin(['Others','Cleantech / Semiconductors','Social, Finance, Analytics, Advertising'])]\n",
        "p2=d2[d2.main_sector.isin(['Others','Cleantech / Semiconductors','Social, Finance, Analytics, Advertising'])]\n",
        "p3=d3[d3.main_sector.isin(['Others','News, Search and Messaging', 'Entertainment'])]\n",
        "frames = [p1, p2, p3]\n",
        "result = pd.concat(frames)\n",
        "plt.figure(figsize=(15, 7))\n",
        "\n",
        "# as there is no estimator for count, using a lambda expression to achive this\n",
        "sns.barplot(y='country_code', x='raised_amount_usd', hue=\"main_sector\", data=result,estimator=lambda x: len(x) )\n",
        "plt.show()"
      ],
      "execution_count": 455,
      "outputs": [
        {
          "output_type": "display_data",
          "data": {
            "image/png": "[encoded data removed]",
            "text/plain": [
              "<Figure size 1080x504 with 1 Axes>"
            ]
          },
          "metadata": {
            "tags": [],
            "needs_background": "light"
          }
        }
      ]
    }
  ]
}